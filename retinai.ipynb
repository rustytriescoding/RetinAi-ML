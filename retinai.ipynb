{
 "cells": [
  {
   "cell_type": "code",
   "execution_count": 1,
   "id": "5fe694d5",
   "metadata": {
    "execution": {
     "iopub.execute_input": "2024-10-16T01:13:09.739110Z",
     "iopub.status.busy": "2024-10-16T01:13:09.738712Z",
     "iopub.status.idle": "2024-10-16T01:13:16.971600Z",
     "shell.execute_reply": "2024-10-16T01:13:16.970459Z"
    },
    "jupyter": {
     "source_hidden": true
    },
    "papermill": {
     "duration": 7.24328,
     "end_time": "2024-10-16T01:13:16.974711",
     "exception": false,
     "start_time": "2024-10-16T01:13:09.731431",
     "status": "completed"
    },
    "tags": []
   },
   "outputs": [
    {
     "name": "stdout",
     "output_type": "stream",
     "text": [
      "System Version: 3.10.14 | packaged by conda-forge | (main, Mar 20 2024, 12:45:18) [GCC 12.3.0]\n",
      "PyTorch version 2.4.0+cpu\n",
      "Torchvision version 0.19.0+cpu\n",
      "Numpy version 1.26.4\n",
      "Pandas version 2.2.2\n"
     ]
    }
   ],
   "source": [
    "import torch\n",
    "import torch.nn as nn\n",
    "import torch.optim as optim\n",
    "from torch.utils.data import Dataset, DataLoader\n",
    "import torchvision\n",
    "import torchvision.transforms as transforms\n",
    "from torchvision.datasets import ImageFolder\n",
    "import timm\n",
    "\n",
    "import matplotlib.pyplot as plt # For data viz\n",
    "import pandas as pd\n",
    "import numpy as np\n",
    "import sys\n",
    "import os\n",
    "from tqdm.notebook import tqdm\n",
    "\n",
    "from PIL import Image\n",
    "\n",
    "print('System Version:', sys.version)\n",
    "print('PyTorch version', torch.__version__)\n",
    "print('Torchvision version', torchvision.__version__)\n",
    "print('Numpy version', np.__version__)\n",
    "print('Pandas version', pd.__version__)"
   ]
  },
  {
   "cell_type": "markdown",
   "id": "3080fd6d",
   "metadata": {
    "papermill": {
     "duration": 0.005046,
     "end_time": "2024-10-16T01:13:16.986724",
     "exception": false,
     "start_time": "2024-10-16T01:13:16.981678",
     "status": "completed"
    },
    "tags": []
   },
   "source": [
    "# CSV Cleansing"
   ]
  },
  {
   "cell_type": "code",
   "execution_count": 2,
   "id": "25a07b76",
   "metadata": {
    "execution": {
     "iopub.execute_input": "2024-10-16T01:13:16.999597Z",
     "iopub.status.busy": "2024-10-16T01:13:16.998957Z",
     "iopub.status.idle": "2024-10-16T01:13:17.004576Z",
     "shell.execute_reply": "2024-10-16T01:13:17.003429Z"
    },
    "papermill": {
     "duration": 0.014818,
     "end_time": "2024-10-16T01:13:17.006850",
     "exception": false,
     "start_time": "2024-10-16T01:13:16.992032",
     "status": "completed"
    },
    "tags": []
   },
   "outputs": [],
   "source": [
    "csv_path='/kaggle/input/fundusimage/ocular-disease-recognition-odir5k/full_df.csv'"
   ]
  },
  {
   "cell_type": "code",
   "execution_count": 3,
   "id": "ff1bfaac",
   "metadata": {
    "execution": {
     "iopub.execute_input": "2024-10-16T01:13:17.020196Z",
     "iopub.status.busy": "2024-10-16T01:13:17.019166Z",
     "iopub.status.idle": "2024-10-16T01:13:17.091657Z",
     "shell.execute_reply": "2024-10-16T01:13:17.090585Z"
    },
    "papermill": {
     "duration": 0.081746,
     "end_time": "2024-10-16T01:13:17.093912",
     "exception": false,
     "start_time": "2024-10-16T01:13:17.012166",
     "status": "completed"
    },
    "tags": []
   },
   "outputs": [
    {
     "data": {
      "text/plain": [
       "(6392, 19)"
      ]
     },
     "execution_count": 3,
     "metadata": {},
     "output_type": "execute_result"
    }
   ],
   "source": [
    "csv = pd.read_csv(csv_path)\n",
    "csv.shape\n"
   ]
  },
  {
   "cell_type": "code",
   "execution_count": 4,
   "id": "1438f6e4",
   "metadata": {
    "execution": {
     "iopub.execute_input": "2024-10-16T01:13:17.106676Z",
     "iopub.status.busy": "2024-10-16T01:13:17.105882Z",
     "iopub.status.idle": "2024-10-16T01:13:17.111277Z",
     "shell.execute_reply": "2024-10-16T01:13:17.110118Z"
    },
    "papermill": {
     "duration": 0.01419,
     "end_time": "2024-10-16T01:13:17.113480",
     "exception": false,
     "start_time": "2024-10-16T01:13:17.099290",
     "status": "completed"
    },
    "tags": []
   },
   "outputs": [],
   "source": [
    "# csv.head()"
   ]
  },
  {
   "cell_type": "markdown",
   "id": "85f53c23",
   "metadata": {
    "papermill": {
     "duration": 0.005086,
     "end_time": "2024-10-16T01:13:17.123950",
     "exception": false,
     "start_time": "2024-10-16T01:13:17.118864",
     "status": "completed"
    },
    "tags": []
   },
   "source": [
    "# Dataset"
   ]
  },
  {
   "cell_type": "code",
   "execution_count": 5,
   "id": "db231ffc",
   "metadata": {
    "execution": {
     "iopub.execute_input": "2024-10-16T01:13:17.136163Z",
     "iopub.status.busy": "2024-10-16T01:13:17.135754Z",
     "iopub.status.idle": "2024-10-16T01:13:17.140902Z",
     "shell.execute_reply": "2024-10-16T01:13:17.139684Z"
    },
    "papermill": {
     "duration": 0.014033,
     "end_time": "2024-10-16T01:13:17.143264",
     "exception": false,
     "start_time": "2024-10-16T01:13:17.129231",
     "status": "completed"
    },
    "tags": []
   },
   "outputs": [],
   "source": [
    "train_path='/kaggle/input/fundusimage/ocular-disease-recognition-odir5k/ODIR-5K/Training Images'\n",
    "test_path='/kaggle/input/fundusimage/ocular-disease-recognition-odir5k/ODIR-5K/Testing Images'"
   ]
  },
  {
   "cell_type": "code",
   "execution_count": 6,
   "id": "d79bd538",
   "metadata": {
    "execution": {
     "iopub.execute_input": "2024-10-16T01:13:17.156441Z",
     "iopub.status.busy": "2024-10-16T01:13:17.156001Z",
     "iopub.status.idle": "2024-10-16T01:13:17.161234Z",
     "shell.execute_reply": "2024-10-16T01:13:17.160144Z"
    },
    "papermill": {
     "duration": 0.013902,
     "end_time": "2024-10-16T01:13:17.163435",
     "exception": false,
     "start_time": "2024-10-16T01:13:17.149533",
     "status": "completed"
    },
    "tags": []
   },
   "outputs": [],
   "source": [
    "IMAGE_SIZE = 128\n",
    "data_transform = transforms.Compose([transforms.Resize((IMAGE_SIZE, IMAGE_SIZE)), \n",
    "                                             transforms.ToTensor()])"
   ]
  },
  {
   "cell_type": "code",
   "execution_count": 7,
   "id": "b8c2a0cd",
   "metadata": {
    "execution": {
     "iopub.execute_input": "2024-10-16T01:13:17.176078Z",
     "iopub.status.busy": "2024-10-16T01:13:17.175694Z",
     "iopub.status.idle": "2024-10-16T01:13:17.185241Z",
     "shell.execute_reply": "2024-10-16T01:13:17.184002Z"
    },
    "papermill": {
     "duration": 0.018802,
     "end_time": "2024-10-16T01:13:17.187557",
     "exception": false,
     "start_time": "2024-10-16T01:13:17.168755",
     "status": "completed"
    },
    "tags": []
   },
   "outputs": [],
   "source": [
    "class OcularDiseaseDataset(Dataset):\n",
    "    def __init__(self, csv_file, transform=None):\n",
    "        self.df = pd.read_csv(csv_file) \n",
    "        self.transform = transform \n",
    "        \n",
    "        # Define a mapping from string labels to integers\n",
    "        self.label_mapping = {\n",
    "            \"N\": 0,  # Normal\n",
    "            \"D\": 1,  # Diabetes\n",
    "            \"G\": 2,  # Glaucoma\n",
    "            \"C\": 3,  # Cataract\n",
    "            \"A\": 4,  # Age-related Macular Degeneration\n",
    "            \"H\": 5,  # Hypertension\n",
    "            \"M\": 6,  # Pathological Myopia\n",
    "            \"O\": 7   # Other diseases/abnormalities\n",
    "        }\n",
    "\n",
    "    def __len__(self):\n",
    "        return len(self.df)  \n",
    "\n",
    "    def __getitem__(self, index):\n",
    "        image_path = self.df.filepath[index].replace('../input', '/kaggle/input/fundusimage')\n",
    "        image = Image.open(image_path)\n",
    "        \n",
    "        label = self.df.labels[index]\n",
    "        label = label.strip(\"[]\").strip(\"'\\\"\")  # Remove brackets from cell value\n",
    "        \n",
    "        # Convert the label to int\n",
    "        label = self.label_mapping.get(label, -1)  # Use -1 for any unknown labels\n",
    "        \n",
    "        # Convert label to a tensor\n",
    "        label = torch.tensor(label, dtype=torch.long)\n",
    "        \n",
    "        if self.transform:\n",
    "            image = self.transform(image)\n",
    "        \n",
    "        return image, label\n",
    "\n"
   ]
  },
  {
   "cell_type": "code",
   "execution_count": 8,
   "id": "75210ab1",
   "metadata": {
    "execution": {
     "iopub.execute_input": "2024-10-16T01:13:17.199746Z",
     "iopub.status.busy": "2024-10-16T01:13:17.199321Z",
     "iopub.status.idle": "2024-10-16T01:13:17.243879Z",
     "shell.execute_reply": "2024-10-16T01:13:17.242693Z"
    },
    "papermill": {
     "duration": 0.053627,
     "end_time": "2024-10-16T01:13:17.246471",
     "exception": false,
     "start_time": "2024-10-16T01:13:17.192844",
     "status": "completed"
    },
    "tags": []
   },
   "outputs": [],
   "source": [
    "train_dataset = OcularDiseaseDataset(\n",
    "    csv_path,\n",
    "    data_transform\n",
    ")"
   ]
  },
  {
   "cell_type": "code",
   "execution_count": 9,
   "id": "460f4b8a",
   "metadata": {
    "execution": {
     "iopub.execute_input": "2024-10-16T01:13:17.258803Z",
     "iopub.status.busy": "2024-10-16T01:13:17.258413Z",
     "iopub.status.idle": "2024-10-16T01:13:17.264689Z",
     "shell.execute_reply": "2024-10-16T01:13:17.263675Z"
    },
    "papermill": {
     "duration": 0.014974,
     "end_time": "2024-10-16T01:13:17.266885",
     "exception": false,
     "start_time": "2024-10-16T01:13:17.251911",
     "status": "completed"
    },
    "tags": []
   },
   "outputs": [
    {
     "data": {
      "text/plain": [
       "6392"
      ]
     },
     "execution_count": 9,
     "metadata": {},
     "output_type": "execute_result"
    }
   ],
   "source": [
    "len(train_dataset)"
   ]
  },
  {
   "cell_type": "code",
   "execution_count": 10,
   "id": "dcd1311a",
   "metadata": {
    "execution": {
     "iopub.execute_input": "2024-10-16T01:13:17.279565Z",
     "iopub.status.busy": "2024-10-16T01:13:17.278635Z",
     "iopub.status.idle": "2024-10-16T01:13:17.401814Z",
     "shell.execute_reply": "2024-10-16T01:13:17.400520Z"
    },
    "papermill": {
     "duration": 0.131954,
     "end_time": "2024-10-16T01:13:17.404147",
     "exception": false,
     "start_time": "2024-10-16T01:13:17.272193",
     "status": "completed"
    },
    "tags": []
   },
   "outputs": [
    {
     "name": "stdout",
     "output_type": "stream",
     "text": [
      "tensor(6)\n"
     ]
    }
   ],
   "source": [
    "image, label = train_dataset[16]\n",
    "print(label)\n"
   ]
  },
  {
   "cell_type": "markdown",
   "id": "386bde0e",
   "metadata": {
    "papermill": {
     "duration": 0.005086,
     "end_time": "2024-10-16T01:13:17.414819",
     "exception": false,
     "start_time": "2024-10-16T01:13:17.409733",
     "status": "completed"
    },
    "tags": []
   },
   "source": [
    "    \"N\": 0,  # Normal\n",
    "    \"D\": 1,  # Diabetes\n",
    "    \"G\": 2,  # Glaucoma\n",
    "    \"C\": 3,  # Cataract\n",
    "    \"A\": 4,  # Age-related Macular Degeneration\n",
    "    \"H\": 5,  # Hypertension\n",
    "    \"M\": 6,  # Pathological Myopia\n",
    "    \"O\": 7   # Other diseases/abnormalities"
   ]
  },
  {
   "cell_type": "code",
   "execution_count": 11,
   "id": "8bbcfc03",
   "metadata": {
    "execution": {
     "iopub.execute_input": "2024-10-16T01:13:17.430884Z",
     "iopub.status.busy": "2024-10-16T01:13:17.430425Z",
     "iopub.status.idle": "2024-10-16T01:13:17.439363Z",
     "shell.execute_reply": "2024-10-16T01:13:17.438280Z"
    },
    "papermill": {
     "duration": 0.020318,
     "end_time": "2024-10-16T01:13:17.441529",
     "exception": false,
     "start_time": "2024-10-16T01:13:17.421211",
     "status": "completed"
    },
    "tags": []
   },
   "outputs": [
    {
     "data": {
      "text/plain": [
       "'Pathological Myopia'"
      ]
     },
     "execution_count": 11,
     "metadata": {},
     "output_type": "execute_result"
    }
   ],
   "source": [
    "target_to_class = ['Normal', 'Diabetes', 'Glaucoma', 'Cataract', 'Age', 'Hypertension',\n",
    "                  'Pathological Myopia', 'Other']\n",
    "\n",
    "target_to_class[label]"
   ]
  },
  {
   "cell_type": "markdown",
   "id": "f5119147",
   "metadata": {
    "papermill": {
     "duration": 0.005507,
     "end_time": "2024-10-16T01:13:17.453809",
     "exception": false,
     "start_time": "2024-10-16T01:13:17.448302",
     "status": "completed"
    },
    "tags": []
   },
   "source": [
    "# Dataloader"
   ]
  },
  {
   "cell_type": "code",
   "execution_count": 12,
   "id": "f81fb4b7",
   "metadata": {
    "execution": {
     "iopub.execute_input": "2024-10-16T01:13:17.467368Z",
     "iopub.status.busy": "2024-10-16T01:13:17.466412Z",
     "iopub.status.idle": "2024-10-16T01:13:17.472488Z",
     "shell.execute_reply": "2024-10-16T01:13:17.471360Z"
    },
    "papermill": {
     "duration": 0.015312,
     "end_time": "2024-10-16T01:13:17.474737",
     "exception": false,
     "start_time": "2024-10-16T01:13:17.459425",
     "status": "completed"
    },
    "tags": []
   },
   "outputs": [],
   "source": [
    "train_dataloader = DataLoader(train_dataset, batch_size=32, shuffle=True)"
   ]
  },
  {
   "cell_type": "code",
   "execution_count": 13,
   "id": "99a3d0e0",
   "metadata": {
    "execution": {
     "iopub.execute_input": "2024-10-16T01:13:17.488386Z",
     "iopub.status.busy": "2024-10-16T01:13:17.487747Z",
     "iopub.status.idle": "2024-10-16T01:13:19.092479Z",
     "shell.execute_reply": "2024-10-16T01:13:19.091242Z"
    },
    "papermill": {
     "duration": 1.614522,
     "end_time": "2024-10-16T01:13:19.094777",
     "exception": false,
     "start_time": "2024-10-16T01:13:17.480255",
     "status": "completed"
    },
    "tags": []
   },
   "outputs": [
    {
     "data": {
      "text/plain": [
       "(torch.Size([32, 3, 128, 128]), torch.Size([32]))"
      ]
     },
     "execution_count": 13,
     "metadata": {},
     "output_type": "execute_result"
    }
   ],
   "source": [
    "for images, labels in train_dataloader:\n",
    "    break\n",
    "    \n",
    "images.shape, labels.shape"
   ]
  },
  {
   "cell_type": "code",
   "execution_count": 14,
   "id": "a68483b1",
   "metadata": {
    "execution": {
     "iopub.execute_input": "2024-10-16T01:13:19.108017Z",
     "iopub.status.busy": "2024-10-16T01:13:19.107598Z",
     "iopub.status.idle": "2024-10-16T01:13:19.115193Z",
     "shell.execute_reply": "2024-10-16T01:13:19.114094Z"
    },
    "papermill": {
     "duration": 0.016871,
     "end_time": "2024-10-16T01:13:19.117477",
     "exception": false,
     "start_time": "2024-10-16T01:13:19.100606",
     "status": "completed"
    },
    "tags": []
   },
   "outputs": [
    {
     "data": {
      "text/plain": [
       "tensor([0, 0, 1, 0, 1, 0, 1, 1, 6, 0, 0, 0, 0, 1, 1, 7, 1, 7, 0, 0, 1, 3, 0, 0,\n",
       "        0, 5, 4, 7, 0, 1, 0, 1])"
      ]
     },
     "execution_count": 14,
     "metadata": {},
     "output_type": "execute_result"
    }
   ],
   "source": [
    "labels"
   ]
  },
  {
   "cell_type": "markdown",
   "id": "0b23e832",
   "metadata": {
    "papermill": {
     "duration": 0.005513,
     "end_time": "2024-10-16T01:13:19.128776",
     "exception": false,
     "start_time": "2024-10-16T01:13:19.123263",
     "status": "completed"
    },
    "tags": []
   },
   "source": [
    "# Model"
   ]
  },
  {
   "cell_type": "code",
   "execution_count": 15,
   "id": "35151e98",
   "metadata": {
    "execution": {
     "iopub.execute_input": "2024-10-16T01:13:19.141982Z",
     "iopub.status.busy": "2024-10-16T01:13:19.141586Z",
     "iopub.status.idle": "2024-10-16T01:13:19.148777Z",
     "shell.execute_reply": "2024-10-16T01:13:19.147693Z"
    },
    "papermill": {
     "duration": 0.016437,
     "end_time": "2024-10-16T01:13:19.150966",
     "exception": false,
     "start_time": "2024-10-16T01:13:19.134529",
     "status": "completed"
    },
    "tags": []
   },
   "outputs": [],
   "source": [
    "class RetinaDiseaseClassifier(nn.Module):\n",
    "    def __init__(self, num_classes=8):\n",
    "        super(RetinaDiseaseClassifier, self).__init__()\n",
    "        # Where we define all the parts of the model\n",
    "        self.base_model = timm.create_model('efficientnet_b0', pretrained=True)\n",
    "        self.features = nn.Sequential(*list(self.base_model.children())[:-1])\n",
    "\n",
    "        enet_out_size = 1280\n",
    "        self.classifier = nn.Sequential(\n",
    "            nn.Flatten(),\n",
    "            nn.Linear(enet_out_size, num_classes)\n",
    "        )\n",
    "    \n",
    "    def forward(self, x):\n",
    "        x = self.features(x)\n",
    "        output = self.classifier(x)\n",
    "        return output"
   ]
  },
  {
   "cell_type": "code",
   "execution_count": 16,
   "id": "ba91052f",
   "metadata": {
    "execution": {
     "iopub.execute_input": "2024-10-16T01:13:19.164281Z",
     "iopub.status.busy": "2024-10-16T01:13:19.163873Z",
     "iopub.status.idle": "2024-10-16T01:13:19.168302Z",
     "shell.execute_reply": "2024-10-16T01:13:19.167236Z"
    },
    "papermill": {
     "duration": 0.01374,
     "end_time": "2024-10-16T01:13:19.170541",
     "exception": false,
     "start_time": "2024-10-16T01:13:19.156801",
     "status": "completed"
    },
    "tags": []
   },
   "outputs": [],
   "source": [
    "# model = RetinaDiseaseClassifier(num_classes=8)\n",
    "# print(str(model)[:500])"
   ]
  }
 ],
 "metadata": {
  "kaggle": {
   "accelerator": "none",
   "dataSources": [
    {
     "datasetId": 5882853,
     "sourceId": 9635244,
     "sourceType": "datasetVersion"
    }
   ],
   "dockerImageVersionId": 30775,
   "isGpuEnabled": false,
   "isInternetEnabled": false,
   "language": "python",
   "sourceType": "notebook"
  },
  "kernelspec": {
   "display_name": "Python 3",
   "language": "python",
   "name": "python3"
  },
  "language_info": {
   "codemirror_mode": {
    "name": "ipython",
    "version": 3
   },
   "file_extension": ".py",
   "mimetype": "text/x-python",
   "name": "python",
   "nbconvert_exporter": "python",
   "pygments_lexer": "ipython3",
   "version": "3.10.14"
  },
  "papermill": {
   "default_parameters": {},
   "duration": 13.412691,
   "end_time": "2024-10-16T01:13:20.500286",
   "environment_variables": {},
   "exception": null,
   "input_path": "__notebook__.ipynb",
   "output_path": "__notebook__.ipynb",
   "parameters": {},
   "start_time": "2024-10-16T01:13:07.087595",
   "version": "2.6.0"
  }
 },
 "nbformat": 4,
 "nbformat_minor": 5
}
