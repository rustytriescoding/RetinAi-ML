{
 "cells": [
  {
   "cell_type": "code",
   "execution_count": 1,
   "id": "004218fa",
   "metadata": {
    "execution": {
     "iopub.execute_input": "2024-10-16T01:16:46.772298Z",
     "iopub.status.busy": "2024-10-16T01:16:46.771771Z",
     "iopub.status.idle": "2024-10-16T01:16:54.988560Z",
     "shell.execute_reply": "2024-10-16T01:16:54.987341Z"
    },
    "jupyter": {
     "source_hidden": true
    },
    "papermill": {
     "duration": 8.226737,
     "end_time": "2024-10-16T01:16:54.991208",
     "exception": false,
     "start_time": "2024-10-16T01:16:46.764471",
     "status": "completed"
    },
    "tags": []
   },
   "outputs": [
    {
     "name": "stdout",
     "output_type": "stream",
     "text": [
      "System Version: 3.10.14 | packaged by conda-forge | (main, Mar 20 2024, 12:45:18) [GCC 12.3.0]\n",
      "PyTorch version 2.4.0+cpu\n",
      "Torchvision version 0.19.0+cpu\n",
      "Numpy version 1.26.4\n",
      "Pandas version 2.2.2\n"
     ]
    }
   ],
   "source": [
    "import torch\n",
    "import torch.nn as nn\n",
    "import torch.optim as optim\n",
    "from torch.utils.data import Dataset, DataLoader\n",
    "import torchvision\n",
    "import torchvision.transforms as transforms\n",
    "from torchvision.datasets import ImageFolder\n",
    "import timm\n",
    "\n",
    "import matplotlib.pyplot as plt # For data viz\n",
    "import pandas as pd\n",
    "import numpy as np\n",
    "import sys\n",
    "import os\n",
    "from tqdm.notebook import tqdm\n",
    "\n",
    "from PIL import Image\n",
    "\n",
    "print('System Version:', sys.version)\n",
    "print('PyTorch version', torch.__version__)\n",
    "print('Torchvision version', torchvision.__version__)\n",
    "print('Numpy version', np.__version__)\n",
    "print('Pandas version', pd.__version__)"
   ]
  },
  {
   "cell_type": "markdown",
   "id": "55497964",
   "metadata": {
    "papermill": {
     "duration": 0.004737,
     "end_time": "2024-10-16T01:16:55.001262",
     "exception": false,
     "start_time": "2024-10-16T01:16:54.996525",
     "status": "completed"
    },
    "tags": []
   },
   "source": [
    "# CSV Cleansing"
   ]
  },
  {
   "cell_type": "code",
   "execution_count": 2,
   "id": "e1195920",
   "metadata": {
    "execution": {
     "iopub.execute_input": "2024-10-16T01:16:55.013707Z",
     "iopub.status.busy": "2024-10-16T01:16:55.012641Z",
     "iopub.status.idle": "2024-10-16T01:16:55.018037Z",
     "shell.execute_reply": "2024-10-16T01:16:55.017056Z"
    },
    "papermill": {
     "duration": 0.01436,
     "end_time": "2024-10-16T01:16:55.020627",
     "exception": false,
     "start_time": "2024-10-16T01:16:55.006267",
     "status": "completed"
    },
    "tags": []
   },
   "outputs": [],
   "source": [
    "csv_path='/kaggle/input/fundusimage/ocular-disease-recognition-odir5k/full_df.csv'"
   ]
  },
  {
   "cell_type": "code",
   "execution_count": 3,
   "id": "c266cfa1",
   "metadata": {
    "execution": {
     "iopub.execute_input": "2024-10-16T01:16:55.034629Z",
     "iopub.status.busy": "2024-10-16T01:16:55.034211Z",
     "iopub.status.idle": "2024-10-16T01:16:55.120887Z",
     "shell.execute_reply": "2024-10-16T01:16:55.119784Z"
    },
    "papermill": {
     "duration": 0.095831,
     "end_time": "2024-10-16T01:16:55.123188",
     "exception": false,
     "start_time": "2024-10-16T01:16:55.027357",
     "status": "completed"
    },
    "tags": []
   },
   "outputs": [
    {
     "data": {
      "text/plain": [
       "(6392, 19)"
      ]
     },
     "execution_count": 3,
     "metadata": {},
     "output_type": "execute_result"
    }
   ],
   "source": [
    "csv = pd.read_csv(csv_path)\n",
    "csv.shape\n"
   ]
  },
  {
   "cell_type": "code",
   "execution_count": 4,
   "id": "8e93a00f",
   "metadata": {
    "execution": {
     "iopub.execute_input": "2024-10-16T01:16:55.135853Z",
     "iopub.status.busy": "2024-10-16T01:16:55.134915Z",
     "iopub.status.idle": "2024-10-16T01:16:55.139771Z",
     "shell.execute_reply": "2024-10-16T01:16:55.138790Z"
    },
    "papermill": {
     "duration": 0.013479,
     "end_time": "2024-10-16T01:16:55.141932",
     "exception": false,
     "start_time": "2024-10-16T01:16:55.128453",
     "status": "completed"
    },
    "tags": []
   },
   "outputs": [],
   "source": [
    "# csv.head()"
   ]
  },
  {
   "cell_type": "markdown",
   "id": "0563f28a",
   "metadata": {
    "papermill": {
     "duration": 0.004901,
     "end_time": "2024-10-16T01:16:55.152029",
     "exception": false,
     "start_time": "2024-10-16T01:16:55.147128",
     "status": "completed"
    },
    "tags": []
   },
   "source": [
    "# Dataset"
   ]
  },
  {
   "cell_type": "code",
   "execution_count": 5,
   "id": "1a412206",
   "metadata": {
    "execution": {
     "iopub.execute_input": "2024-10-16T01:16:55.164393Z",
     "iopub.status.busy": "2024-10-16T01:16:55.163517Z",
     "iopub.status.idle": "2024-10-16T01:16:55.168876Z",
     "shell.execute_reply": "2024-10-16T01:16:55.167833Z"
    },
    "papermill": {
     "duration": 0.014375,
     "end_time": "2024-10-16T01:16:55.171442",
     "exception": false,
     "start_time": "2024-10-16T01:16:55.157067",
     "status": "completed"
    },
    "tags": []
   },
   "outputs": [],
   "source": [
    "train_path='/kaggle/input/fundusimage/ocular-disease-recognition-odir5k/ODIR-5K/Training Images'\n",
    "test_path='/kaggle/input/fundusimage/ocular-disease-recognition-odir5k/ODIR-5K/Testing Images'"
   ]
  },
  {
   "cell_type": "code",
   "execution_count": 6,
   "id": "5d1f6301",
   "metadata": {
    "execution": {
     "iopub.execute_input": "2024-10-16T01:16:55.190392Z",
     "iopub.status.busy": "2024-10-16T01:16:55.189496Z",
     "iopub.status.idle": "2024-10-16T01:16:55.194665Z",
     "shell.execute_reply": "2024-10-16T01:16:55.193672Z"
    },
    "papermill": {
     "duration": 0.016633,
     "end_time": "2024-10-16T01:16:55.197336",
     "exception": false,
     "start_time": "2024-10-16T01:16:55.180703",
     "status": "completed"
    },
    "tags": []
   },
   "outputs": [],
   "source": [
    "IMAGE_SIZE = 128\n",
    "data_transform = transforms.Compose([transforms.Resize((IMAGE_SIZE, IMAGE_SIZE)), \n",
    "                                             transforms.ToTensor()])"
   ]
  },
  {
   "cell_type": "code",
   "execution_count": 7,
   "id": "6e8dc7c0",
   "metadata": {
    "execution": {
     "iopub.execute_input": "2024-10-16T01:16:55.213457Z",
     "iopub.status.busy": "2024-10-16T01:16:55.213074Z",
     "iopub.status.idle": "2024-10-16T01:16:55.222380Z",
     "shell.execute_reply": "2024-10-16T01:16:55.221197Z"
    },
    "papermill": {
     "duration": 0.019627,
     "end_time": "2024-10-16T01:16:55.225004",
     "exception": false,
     "start_time": "2024-10-16T01:16:55.205377",
     "status": "completed"
    },
    "tags": []
   },
   "outputs": [],
   "source": [
    "class OcularDiseaseDataset(Dataset):\n",
    "    def __init__(self, csv_file, root_dir, transform=None):\n",
    "        self.df = pd.read_csv(csv_file) \n",
    "        self.transform = transform \n",
    "        self.root_dir = root_dir\n",
    "        \n",
    "        # Define a mapping from string labels to integers\n",
    "        self.label_mapping = {\n",
    "            \"N\": 0,  # Normal\n",
    "            \"D\": 1,  # Diabetes\n",
    "            \"G\": 2,  # Glaucoma\n",
    "            \"C\": 3,  # Cataract\n",
    "            \"A\": 4,  # Age-related Macular Degeneration\n",
    "            \"H\": 5,  # Hypertension\n",
    "            \"M\": 6,  # Pathological Myopia\n",
    "            \"O\": 7   # Other diseases/abnormalities\n",
    "        }\n",
    "\n",
    "    def __len__(self):\n",
    "        return len(self.df)  \n",
    "\n",
    "    def __getitem__(self, index):\n",
    "        image_path = os.path.join(self.root_dir,\n",
    "                                self.df.filename[index])\n",
    "        image = Image.open(image_path)\n",
    "        \n",
    "        label = self.df.labels[index]\n",
    "        label = label.strip(\"[]\").strip(\"'\\\"\")  # Remove brackets from cell value\n",
    "        \n",
    "        # Convert the label to int\n",
    "        label = self.label_mapping.get(label, -1)  # Use -1 for any unknown labels\n",
    "        \n",
    "        # Convert label to a tensor\n",
    "        label = torch.tensor(label, dtype=torch.long)\n",
    "        \n",
    "        if self.transform:\n",
    "            image = self.transform(image)\n",
    "        \n",
    "        return image, label\n",
    "\n"
   ]
  },
  {
   "cell_type": "code",
   "execution_count": 8,
   "id": "0caf506b",
   "metadata": {
    "execution": {
     "iopub.execute_input": "2024-10-16T01:16:55.243446Z",
     "iopub.status.busy": "2024-10-16T01:16:55.242589Z",
     "iopub.status.idle": "2024-10-16T01:16:55.288088Z",
     "shell.execute_reply": "2024-10-16T01:16:55.287000Z"
    },
    "papermill": {
     "duration": 0.057273,
     "end_time": "2024-10-16T01:16:55.290552",
     "exception": false,
     "start_time": "2024-10-16T01:16:55.233279",
     "status": "completed"
    },
    "tags": []
   },
   "outputs": [],
   "source": [
    "train_dataset = OcularDiseaseDataset(\n",
    "    csv_path,\n",
    "    train_path,\n",
    "    data_transform\n",
    ")"
   ]
  },
  {
   "cell_type": "code",
   "execution_count": 9,
   "id": "96655821",
   "metadata": {
    "execution": {
     "iopub.execute_input": "2024-10-16T01:16:55.303083Z",
     "iopub.status.busy": "2024-10-16T01:16:55.302292Z",
     "iopub.status.idle": "2024-10-16T01:16:55.308791Z",
     "shell.execute_reply": "2024-10-16T01:16:55.307881Z"
    },
    "papermill": {
     "duration": 0.014913,
     "end_time": "2024-10-16T01:16:55.310945",
     "exception": false,
     "start_time": "2024-10-16T01:16:55.296032",
     "status": "completed"
    },
    "tags": []
   },
   "outputs": [
    {
     "data": {
      "text/plain": [
       "6392"
      ]
     },
     "execution_count": 9,
     "metadata": {},
     "output_type": "execute_result"
    }
   ],
   "source": [
    "len(train_dataset)"
   ]
  },
  {
   "cell_type": "code",
   "execution_count": 10,
   "id": "cba71a29",
   "metadata": {
    "execution": {
     "iopub.execute_input": "2024-10-16T01:16:55.323438Z",
     "iopub.status.busy": "2024-10-16T01:16:55.322657Z",
     "iopub.status.idle": "2024-10-16T01:16:55.469318Z",
     "shell.execute_reply": "2024-10-16T01:16:55.468081Z"
    },
    "papermill": {
     "duration": 0.155385,
     "end_time": "2024-10-16T01:16:55.471585",
     "exception": false,
     "start_time": "2024-10-16T01:16:55.316200",
     "status": "completed"
    },
    "tags": []
   },
   "outputs": [
    {
     "name": "stdout",
     "output_type": "stream",
     "text": [
      "tensor(6)\n"
     ]
    }
   ],
   "source": [
    "image, label = train_dataset[16]\n",
    "print(label)\n"
   ]
  },
  {
   "cell_type": "markdown",
   "id": "4f9343a4",
   "metadata": {
    "papermill": {
     "duration": 0.004994,
     "end_time": "2024-10-16T01:16:55.482407",
     "exception": false,
     "start_time": "2024-10-16T01:16:55.477413",
     "status": "completed"
    },
    "tags": []
   },
   "source": [
    "    \"N\": 0,  # Normal\n",
    "    \"D\": 1,  # Diabetes\n",
    "    \"G\": 2,  # Glaucoma\n",
    "    \"C\": 3,  # Cataract\n",
    "    \"A\": 4,  # Age-related Macular Degeneration\n",
    "    \"H\": 5,  # Hypertension\n",
    "    \"M\": 6,  # Pathological Myopia\n",
    "    \"O\": 7   # Other diseases/abnormalities"
   ]
  },
  {
   "cell_type": "code",
   "execution_count": 11,
   "id": "76229b56",
   "metadata": {
    "execution": {
     "iopub.execute_input": "2024-10-16T01:16:55.494757Z",
     "iopub.status.busy": "2024-10-16T01:16:55.493947Z",
     "iopub.status.idle": "2024-10-16T01:16:55.500949Z",
     "shell.execute_reply": "2024-10-16T01:16:55.499887Z"
    },
    "papermill": {
     "duration": 0.015534,
     "end_time": "2024-10-16T01:16:55.503127",
     "exception": false,
     "start_time": "2024-10-16T01:16:55.487593",
     "status": "completed"
    },
    "tags": []
   },
   "outputs": [
    {
     "data": {
      "text/plain": [
       "'Pathological Myopia'"
      ]
     },
     "execution_count": 11,
     "metadata": {},
     "output_type": "execute_result"
    }
   ],
   "source": [
    "target_to_class = ['Normal', 'Diabetes', 'Glaucoma', 'Cataract', 'Age', 'Hypertension',\n",
    "                  'Pathological Myopia', 'Other']\n",
    "\n",
    "target_to_class[label]"
   ]
  },
  {
   "cell_type": "markdown",
   "id": "ccf1c0f0",
   "metadata": {
    "papermill": {
     "duration": 0.005206,
     "end_time": "2024-10-16T01:16:55.513851",
     "exception": false,
     "start_time": "2024-10-16T01:16:55.508645",
     "status": "completed"
    },
    "tags": []
   },
   "source": [
    "# Dataloader"
   ]
  },
  {
   "cell_type": "code",
   "execution_count": 12,
   "id": "3322d49c",
   "metadata": {
    "execution": {
     "iopub.execute_input": "2024-10-16T01:16:55.526639Z",
     "iopub.status.busy": "2024-10-16T01:16:55.525715Z",
     "iopub.status.idle": "2024-10-16T01:16:55.530859Z",
     "shell.execute_reply": "2024-10-16T01:16:55.529851Z"
    },
    "papermill": {
     "duration": 0.013762,
     "end_time": "2024-10-16T01:16:55.532934",
     "exception": false,
     "start_time": "2024-10-16T01:16:55.519172",
     "status": "completed"
    },
    "tags": []
   },
   "outputs": [],
   "source": [
    "train_dataloader = DataLoader(train_dataset, batch_size=32, shuffle=True)"
   ]
  },
  {
   "cell_type": "code",
   "execution_count": 13,
   "id": "6881b549",
   "metadata": {
    "execution": {
     "iopub.execute_input": "2024-10-16T01:16:55.545461Z",
     "iopub.status.busy": "2024-10-16T01:16:55.545085Z",
     "iopub.status.idle": "2024-10-16T01:16:57.215435Z",
     "shell.execute_reply": "2024-10-16T01:16:57.214095Z"
    },
    "papermill": {
     "duration": 1.679503,
     "end_time": "2024-10-16T01:16:57.217912",
     "exception": false,
     "start_time": "2024-10-16T01:16:55.538409",
     "status": "completed"
    },
    "tags": []
   },
   "outputs": [
    {
     "data": {
      "text/plain": [
       "(torch.Size([32, 3, 128, 128]), torch.Size([32]))"
      ]
     },
     "execution_count": 13,
     "metadata": {},
     "output_type": "execute_result"
    }
   ],
   "source": [
    "for images, labels in train_dataloader:\n",
    "    break\n",
    "    \n",
    "images.shape, labels.shape"
   ]
  },
  {
   "cell_type": "code",
   "execution_count": 14,
   "id": "17b29a21",
   "metadata": {
    "execution": {
     "iopub.execute_input": "2024-10-16T01:16:57.231091Z",
     "iopub.status.busy": "2024-10-16T01:16:57.230684Z",
     "iopub.status.idle": "2024-10-16T01:16:57.237720Z",
     "shell.execute_reply": "2024-10-16T01:16:57.236834Z"
    },
    "papermill": {
     "duration": 0.016224,
     "end_time": "2024-10-16T01:16:57.239818",
     "exception": false,
     "start_time": "2024-10-16T01:16:57.223594",
     "status": "completed"
    },
    "tags": []
   },
   "outputs": [
    {
     "data": {
      "text/plain": [
       "tensor([0, 7, 1, 0, 3, 4, 7, 0, 0, 7, 0, 0, 0, 0, 0, 0, 1, 4, 1, 0, 1, 0, 5, 1,\n",
       "        0, 0, 4, 1, 0, 1, 0, 7])"
      ]
     },
     "execution_count": 14,
     "metadata": {},
     "output_type": "execute_result"
    }
   ],
   "source": [
    "labels"
   ]
  },
  {
   "cell_type": "markdown",
   "id": "a1c4bc06",
   "metadata": {
    "papermill": {
     "duration": 0.005407,
     "end_time": "2024-10-16T01:16:57.250856",
     "exception": false,
     "start_time": "2024-10-16T01:16:57.245449",
     "status": "completed"
    },
    "tags": []
   },
   "source": [
    "# Model"
   ]
  },
  {
   "cell_type": "code",
   "execution_count": 15,
   "id": "bb8da67f",
   "metadata": {
    "execution": {
     "iopub.execute_input": "2024-10-16T01:16:57.264484Z",
     "iopub.status.busy": "2024-10-16T01:16:57.263448Z",
     "iopub.status.idle": "2024-10-16T01:16:57.271154Z",
     "shell.execute_reply": "2024-10-16T01:16:57.270062Z"
    },
    "papermill": {
     "duration": 0.017233,
     "end_time": "2024-10-16T01:16:57.273628",
     "exception": false,
     "start_time": "2024-10-16T01:16:57.256395",
     "status": "completed"
    },
    "tags": []
   },
   "outputs": [],
   "source": [
    "class RetinaDiseaseClassifier(nn.Module):\n",
    "    def __init__(self, num_classes=8):\n",
    "        super(RetinaDiseaseClassifier, self).__init__()\n",
    "        # Where we define all the parts of the model\n",
    "        self.base_model = timm.create_model('efficientnet_b0', pretrained=True)\n",
    "        self.features = nn.Sequential(*list(self.base_model.children())[:-1])\n",
    "\n",
    "        enet_out_size = 1280\n",
    "        self.classifier = nn.Sequential(\n",
    "            nn.Flatten(),\n",
    "            nn.Linear(enet_out_size, num_classes)\n",
    "        )\n",
    "    \n",
    "    def forward(self, x):\n",
    "        x = self.features(x)\n",
    "        output = self.classifier(x)\n",
    "        return output"
   ]
  },
  {
   "cell_type": "code",
   "execution_count": 16,
   "id": "f3e8ce1d",
   "metadata": {
    "execution": {
     "iopub.execute_input": "2024-10-16T01:16:57.287434Z",
     "iopub.status.busy": "2024-10-16T01:16:57.286632Z",
     "iopub.status.idle": "2024-10-16T01:16:57.291021Z",
     "shell.execute_reply": "2024-10-16T01:16:57.289948Z"
    },
    "papermill": {
     "duration": 0.013806,
     "end_time": "2024-10-16T01:16:57.293291",
     "exception": false,
     "start_time": "2024-10-16T01:16:57.279485",
     "status": "completed"
    },
    "tags": []
   },
   "outputs": [],
   "source": [
    "# model = RetinaDiseaseClassifier(num_classes=8)\n",
    "# print(str(model)[:500])"
   ]
  }
 ],
 "metadata": {
  "kaggle": {
   "accelerator": "none",
   "dataSources": [
    {
     "datasetId": 5882853,
     "sourceId": 9635244,
     "sourceType": "datasetVersion"
    }
   ],
   "dockerImageVersionId": 30775,
   "isGpuEnabled": false,
   "isInternetEnabled": false,
   "language": "python",
   "sourceType": "notebook"
  },
  "kernelspec": {
   "display_name": "Python 3",
   "language": "python",
   "name": "python3"
  },
  "language_info": {
   "codemirror_mode": {
    "name": "ipython",
    "version": 3
   },
   "file_extension": ".py",
   "mimetype": "text/x-python",
   "name": "python",
   "nbconvert_exporter": "python",
   "pygments_lexer": "ipython3",
   "version": "3.10.14"
  },
  "papermill": {
   "default_parameters": {},
   "duration": 14.744347,
   "end_time": "2024-10-16T01:16:58.722501",
   "environment_variables": {},
   "exception": null,
   "input_path": "__notebook__.ipynb",
   "output_path": "__notebook__.ipynb",
   "parameters": {},
   "start_time": "2024-10-16T01:16:43.978154",
   "version": "2.6.0"
  }
 },
 "nbformat": 4,
 "nbformat_minor": 5
}
