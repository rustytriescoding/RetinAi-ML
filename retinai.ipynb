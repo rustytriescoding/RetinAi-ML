{
 "cells": [
  {
   "cell_type": "code",
   "execution_count": 1,
   "id": "ddbbf3ba",
   "metadata": {
    "execution": {
     "iopub.execute_input": "2024-10-16T00:44:21.686907Z",
     "iopub.status.busy": "2024-10-16T00:44:21.686360Z",
     "iopub.status.idle": "2024-10-16T00:44:29.049643Z",
     "shell.execute_reply": "2024-10-16T00:44:29.048198Z"
    },
    "jupyter": {
     "source_hidden": true
    },
    "papermill": {
     "duration": 7.372945,
     "end_time": "2024-10-16T00:44:29.052224",
     "exception": false,
     "start_time": "2024-10-16T00:44:21.679279",
     "status": "completed"
    },
    "tags": []
   },
   "outputs": [
    {
     "name": "stdout",
     "output_type": "stream",
     "text": [
      "System Version: 3.10.14 | packaged by conda-forge | (main, Mar 20 2024, 12:45:18) [GCC 12.3.0]\n",
      "PyTorch version 2.4.0+cpu\n",
      "Torchvision version 0.19.0+cpu\n",
      "Numpy version 1.26.4\n",
      "Pandas version 2.2.2\n"
     ]
    }
   ],
   "source": [
    "import torch\n",
    "import torch.nn as nn\n",
    "import torch.optim as optim\n",
    "from torch.utils.data import Dataset, DataLoader\n",
    "import torchvision\n",
    "import torchvision.transforms as transforms\n",
    "from torchvision.datasets import ImageFolder\n",
    "import timm\n",
    "\n",
    "import matplotlib.pyplot as plt # For data viz\n",
    "import pandas as pd\n",
    "import numpy as np\n",
    "import sys\n",
    "import os\n",
    "from tqdm.notebook import tqdm\n",
    "\n",
    "from PIL import Image\n",
    "\n",
    "print('System Version:', sys.version)\n",
    "print('PyTorch version', torch.__version__)\n",
    "print('Torchvision version', torchvision.__version__)\n",
    "print('Numpy version', np.__version__)\n",
    "print('Pandas version', pd.__version__)"
   ]
  },
  {
   "cell_type": "markdown",
   "id": "56ec0812",
   "metadata": {
    "papermill": {
     "duration": 0.004342,
     "end_time": "2024-10-16T00:44:29.061539",
     "exception": false,
     "start_time": "2024-10-16T00:44:29.057197",
     "status": "completed"
    },
    "tags": []
   },
   "source": [
    "# CSV Cleansing"
   ]
  },
  {
   "cell_type": "code",
   "execution_count": 2,
   "id": "b532dd71",
   "metadata": {
    "execution": {
     "iopub.execute_input": "2024-10-16T00:44:29.072594Z",
     "iopub.status.busy": "2024-10-16T00:44:29.071977Z",
     "iopub.status.idle": "2024-10-16T00:44:29.077180Z",
     "shell.execute_reply": "2024-10-16T00:44:29.076081Z"
    },
    "papermill": {
     "duration": 0.013445,
     "end_time": "2024-10-16T00:44:29.079530",
     "exception": false,
     "start_time": "2024-10-16T00:44:29.066085",
     "status": "completed"
    },
    "tags": []
   },
   "outputs": [],
   "source": [
    "csv_path='/kaggle/input/fundusimage/ocular-disease-recognition-odir5k/full_df.csv'"
   ]
  },
  {
   "cell_type": "code",
   "execution_count": 3,
   "id": "ad56a21b",
   "metadata": {
    "execution": {
     "iopub.execute_input": "2024-10-16T00:44:29.091247Z",
     "iopub.status.busy": "2024-10-16T00:44:29.090458Z",
     "iopub.status.idle": "2024-10-16T00:44:29.164943Z",
     "shell.execute_reply": "2024-10-16T00:44:29.163872Z"
    },
    "papermill": {
     "duration": 0.082911,
     "end_time": "2024-10-16T00:44:29.167334",
     "exception": false,
     "start_time": "2024-10-16T00:44:29.084423",
     "status": "completed"
    },
    "tags": []
   },
   "outputs": [
    {
     "data": {
      "text/plain": [
       "(6392, 19)"
      ]
     },
     "execution_count": 3,
     "metadata": {},
     "output_type": "execute_result"
    }
   ],
   "source": [
    "csv = pd.read_csv(csv_path)\n",
    "csv.shape\n"
   ]
  },
  {
   "cell_type": "code",
   "execution_count": 4,
   "id": "560d0473",
   "metadata": {
    "execution": {
     "iopub.execute_input": "2024-10-16T00:44:29.178854Z",
     "iopub.status.busy": "2024-10-16T00:44:29.178397Z",
     "iopub.status.idle": "2024-10-16T00:44:29.183393Z",
     "shell.execute_reply": "2024-10-16T00:44:29.182198Z"
    },
    "papermill": {
     "duration": 0.01352,
     "end_time": "2024-10-16T00:44:29.185751",
     "exception": false,
     "start_time": "2024-10-16T00:44:29.172231",
     "status": "completed"
    },
    "tags": []
   },
   "outputs": [],
   "source": [
    "# csv.head()"
   ]
  },
  {
   "cell_type": "markdown",
   "id": "198a1610",
   "metadata": {
    "papermill": {
     "duration": 0.004414,
     "end_time": "2024-10-16T00:44:29.195223",
     "exception": false,
     "start_time": "2024-10-16T00:44:29.190809",
     "status": "completed"
    },
    "tags": []
   },
   "source": [
    "# Dataset"
   ]
  },
  {
   "cell_type": "code",
   "execution_count": 5,
   "id": "bdade506",
   "metadata": {
    "execution": {
     "iopub.execute_input": "2024-10-16T00:44:29.206438Z",
     "iopub.status.busy": "2024-10-16T00:44:29.206038Z",
     "iopub.status.idle": "2024-10-16T00:44:29.211181Z",
     "shell.execute_reply": "2024-10-16T00:44:29.209871Z"
    },
    "papermill": {
     "duration": 0.013603,
     "end_time": "2024-10-16T00:44:29.213579",
     "exception": false,
     "start_time": "2024-10-16T00:44:29.199976",
     "status": "completed"
    },
    "tags": []
   },
   "outputs": [],
   "source": [
    "train_path='/kaggle/input/fundusimage/ocular-disease-recognition-odir5k/ODIR-5K/Training Images'\n",
    "test_path='/kaggle/input/fundusimage/ocular-disease-recognition-odir5k/ODIR-5K/Testing Images'"
   ]
  },
  {
   "cell_type": "code",
   "execution_count": 6,
   "id": "02a5c360",
   "metadata": {
    "execution": {
     "iopub.execute_input": "2024-10-16T00:44:29.225075Z",
     "iopub.status.busy": "2024-10-16T00:44:29.224591Z",
     "iopub.status.idle": "2024-10-16T00:44:29.230026Z",
     "shell.execute_reply": "2024-10-16T00:44:29.229023Z"
    },
    "papermill": {
     "duration": 0.013697,
     "end_time": "2024-10-16T00:44:29.232270",
     "exception": false,
     "start_time": "2024-10-16T00:44:29.218573",
     "status": "completed"
    },
    "tags": []
   },
   "outputs": [],
   "source": [
    "IMAGE_SIZE = 128\n",
    "data_transform = transforms.Compose([transforms.Resize((IMAGE_SIZE, IMAGE_SIZE)), \n",
    "                                             transforms.ToTensor()])"
   ]
  },
  {
   "cell_type": "code",
   "execution_count": 7,
   "id": "3859a152",
   "metadata": {
    "execution": {
     "iopub.execute_input": "2024-10-16T00:44:29.243424Z",
     "iopub.status.busy": "2024-10-16T00:44:29.243041Z",
     "iopub.status.idle": "2024-10-16T00:44:29.252778Z",
     "shell.execute_reply": "2024-10-16T00:44:29.251568Z"
    },
    "papermill": {
     "duration": 0.018187,
     "end_time": "2024-10-16T00:44:29.255260",
     "exception": false,
     "start_time": "2024-10-16T00:44:29.237073",
     "status": "completed"
    },
    "tags": []
   },
   "outputs": [],
   "source": [
    "class OcularDiseaseDataset(Dataset):\n",
    "    def __init__(self, csv_file, transform=None):\n",
    "        self.df = pd.read_csv(csv_file) \n",
    "        self.transform = transform \n",
    "        \n",
    "        # Define a mapping from string labels to integers\n",
    "        self.label_mapping = {\n",
    "            \"N\": 0,  # Normal\n",
    "            \"D\": 1,  # Diabetes\n",
    "            \"G\": 2,  # Glaucoma\n",
    "            \"C\": 3,  # Cataract\n",
    "            \"A\": 4,  # Age-related Macular Degeneration\n",
    "            \"H\": 5,  # Hypertension\n",
    "            \"M\": 6,  # Pathological Myopia\n",
    "            \"O\": 7   # Other diseases/abnormalities\n",
    "        }\n",
    "\n",
    "    def __len__(self):\n",
    "        return len(self.df)  \n",
    "\n",
    "    def __getitem__(self, index):\n",
    "        image_path = self.df.filepath[index].replace('../input', '/kaggle/input/fundusimage')\n",
    "        image = Image.open(image_path)\n",
    "        \n",
    "        # Process the label, which is stored as a string like '[\"N\"]'\n",
    "        label = self.df.labels[index]\n",
    "        label = label.strip(\"[]\").strip(\"'\\\"\")  # Clean the string\n",
    "        \n",
    "        # Convert the label to the corresponding integer using the label_mapping\n",
    "        label = self.label_mapping.get(label, -1)  # Use -1 for any unknown labels\n",
    "        \n",
    "        # Convert label to a tensor\n",
    "        label = torch.tensor(label, dtype=torch.long)\n",
    "        \n",
    "        if self.transform:\n",
    "            image = self.transform(image)\n",
    "        \n",
    "        return image, label\n",
    "\n"
   ]
  },
  {
   "cell_type": "code",
   "execution_count": 8,
   "id": "44770e9c",
   "metadata": {
    "execution": {
     "iopub.execute_input": "2024-10-16T00:44:29.267551Z",
     "iopub.status.busy": "2024-10-16T00:44:29.267134Z",
     "iopub.status.idle": "2024-10-16T00:44:29.309003Z",
     "shell.execute_reply": "2024-10-16T00:44:29.308050Z"
    },
    "papermill": {
     "duration": 0.050517,
     "end_time": "2024-10-16T00:44:29.311496",
     "exception": false,
     "start_time": "2024-10-16T00:44:29.260979",
     "status": "completed"
    },
    "tags": []
   },
   "outputs": [],
   "source": [
    "train_dataset = OcularDiseaseDataset(\n",
    "    csv_path,\n",
    "    data_transform\n",
    ")"
   ]
  },
  {
   "cell_type": "code",
   "execution_count": 9,
   "id": "227ea30b",
   "metadata": {
    "execution": {
     "iopub.execute_input": "2024-10-16T00:44:29.322667Z",
     "iopub.status.busy": "2024-10-16T00:44:29.322232Z",
     "iopub.status.idle": "2024-10-16T00:44:29.329069Z",
     "shell.execute_reply": "2024-10-16T00:44:29.327922Z"
    },
    "papermill": {
     "duration": 0.01512,
     "end_time": "2024-10-16T00:44:29.331385",
     "exception": false,
     "start_time": "2024-10-16T00:44:29.316265",
     "status": "completed"
    },
    "tags": []
   },
   "outputs": [
    {
     "data": {
      "text/plain": [
       "6392"
      ]
     },
     "execution_count": 9,
     "metadata": {},
     "output_type": "execute_result"
    }
   ],
   "source": [
    "len(train_dataset)"
   ]
  },
  {
   "cell_type": "code",
   "execution_count": 10,
   "id": "2c02c73f",
   "metadata": {
    "execution": {
     "iopub.execute_input": "2024-10-16T00:44:29.342820Z",
     "iopub.status.busy": "2024-10-16T00:44:29.342384Z",
     "iopub.status.idle": "2024-10-16T00:44:29.497908Z",
     "shell.execute_reply": "2024-10-16T00:44:29.496664Z"
    },
    "papermill": {
     "duration": 0.163903,
     "end_time": "2024-10-16T00:44:29.500200",
     "exception": false,
     "start_time": "2024-10-16T00:44:29.336297",
     "status": "completed"
    },
    "tags": []
   },
   "outputs": [
    {
     "name": "stdout",
     "output_type": "stream",
     "text": [
      "tensor(2)\n"
     ]
    }
   ],
   "source": [
    "image, label = train_dataset[3274]\n",
    "print(label)\n"
   ]
  },
  {
   "cell_type": "markdown",
   "id": "69559d43",
   "metadata": {
    "papermill": {
     "duration": 0.004585,
     "end_time": "2024-10-16T00:44:29.509859",
     "exception": false,
     "start_time": "2024-10-16T00:44:29.505274",
     "status": "completed"
    },
    "tags": []
   },
   "source": [
    "    \"N\": 0,  # Normal\n",
    "    \"D\": 1,  # Diabetes\n",
    "    \"G\": 2,  # Glaucoma\n",
    "    \"C\": 3,  # Cataract\n",
    "    \"A\": 4,  # Age-related Macular Degeneration\n",
    "    \"H\": 5,  # Hypertension\n",
    "    \"M\": 6,  # Pathological Myopia\n",
    "    \"O\": 7   # Other diseases/abnormalities"
   ]
  },
  {
   "cell_type": "code",
   "execution_count": 11,
   "id": "a0d8cca5",
   "metadata": {
    "execution": {
     "iopub.execute_input": "2024-10-16T00:44:29.521469Z",
     "iopub.status.busy": "2024-10-16T00:44:29.521015Z",
     "iopub.status.idle": "2024-10-16T00:44:29.529070Z",
     "shell.execute_reply": "2024-10-16T00:44:29.527957Z"
    },
    "papermill": {
     "duration": 0.016542,
     "end_time": "2024-10-16T00:44:29.531347",
     "exception": false,
     "start_time": "2024-10-16T00:44:29.514805",
     "status": "completed"
    },
    "tags": []
   },
   "outputs": [
    {
     "data": {
      "text/plain": [
       "'Glaucoma'"
      ]
     },
     "execution_count": 11,
     "metadata": {},
     "output_type": "execute_result"
    }
   ],
   "source": [
    "target_to_class = ['Normal', 'Diabetes', 'Glaucoma', 'Cataract', 'Age', 'Hypertension',\n",
    "                  'Pathological Myopia', 'Other']\n",
    "\n",
    "target_to_class[label]"
   ]
  },
  {
   "cell_type": "markdown",
   "id": "a5dad9ef",
   "metadata": {
    "papermill": {
     "duration": 0.004843,
     "end_time": "2024-10-16T00:44:29.541265",
     "exception": false,
     "start_time": "2024-10-16T00:44:29.536422",
     "status": "completed"
    },
    "tags": []
   },
   "source": [
    "# Dataloader"
   ]
  },
  {
   "cell_type": "code",
   "execution_count": 12,
   "id": "3d2a1076",
   "metadata": {
    "execution": {
     "iopub.execute_input": "2024-10-16T00:44:29.553053Z",
     "iopub.status.busy": "2024-10-16T00:44:29.552558Z",
     "iopub.status.idle": "2024-10-16T00:44:29.558337Z",
     "shell.execute_reply": "2024-10-16T00:44:29.557099Z"
    },
    "papermill": {
     "duration": 0.014411,
     "end_time": "2024-10-16T00:44:29.560670",
     "exception": false,
     "start_time": "2024-10-16T00:44:29.546259",
     "status": "completed"
    },
    "tags": []
   },
   "outputs": [],
   "source": [
    "train_dataloader = DataLoader(train_dataset, batch_size=32, shuffle=True)"
   ]
  },
  {
   "cell_type": "code",
   "execution_count": 13,
   "id": "e5ae0855",
   "metadata": {
    "execution": {
     "iopub.execute_input": "2024-10-16T00:44:29.572863Z",
     "iopub.status.busy": "2024-10-16T00:44:29.572423Z",
     "iopub.status.idle": "2024-10-16T00:44:31.138174Z",
     "shell.execute_reply": "2024-10-16T00:44:31.137024Z"
    },
    "papermill": {
     "duration": 1.574616,
     "end_time": "2024-10-16T00:44:31.140564",
     "exception": false,
     "start_time": "2024-10-16T00:44:29.565948",
     "status": "completed"
    },
    "tags": []
   },
   "outputs": [
    {
     "data": {
      "text/plain": [
       "(torch.Size([32, 3, 128, 128]), torch.Size([32]))"
      ]
     },
     "execution_count": 13,
     "metadata": {},
     "output_type": "execute_result"
    }
   ],
   "source": [
    "for images, labels in train_dataloader:\n",
    "    break\n",
    "    \n",
    "images.shape, labels.shape"
   ]
  },
  {
   "cell_type": "code",
   "execution_count": null,
   "id": "e6cda09b",
   "metadata": {
    "papermill": {
     "duration": 0.004821,
     "end_time": "2024-10-16T00:44:31.150613",
     "exception": false,
     "start_time": "2024-10-16T00:44:31.145792",
     "status": "completed"
    },
    "tags": []
   },
   "outputs": [],
   "source": []
  }
 ],
 "metadata": {
  "kaggle": {
   "accelerator": "none",
   "dataSources": [
    {
     "datasetId": 5882853,
     "sourceId": 9635244,
     "sourceType": "datasetVersion"
    }
   ],
   "dockerImageVersionId": 30775,
   "isGpuEnabled": false,
   "isInternetEnabled": false,
   "language": "python",
   "sourceType": "notebook"
  },
  "kernelspec": {
   "display_name": "Python 3",
   "language": "python",
   "name": "python3"
  },
  "language_info": {
   "codemirror_mode": {
    "name": "ipython",
    "version": 3
   },
   "file_extension": ".py",
   "mimetype": "text/x-python",
   "name": "python",
   "nbconvert_exporter": "python",
   "pygments_lexer": "ipython3",
   "version": "3.10.14"
  },
  "papermill": {
   "default_parameters": {},
   "duration": 14.495411,
   "end_time": "2024-10-16T00:44:33.415792",
   "environment_variables": {},
   "exception": null,
   "input_path": "__notebook__.ipynb",
   "output_path": "__notebook__.ipynb",
   "parameters": {},
   "start_time": "2024-10-16T00:44:18.920381",
   "version": "2.6.0"
  }
 },
 "nbformat": 4,
 "nbformat_minor": 5
}
