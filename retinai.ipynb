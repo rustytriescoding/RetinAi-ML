{
 "cells": [
  {
   "cell_type": "code",
   "execution_count": 1,
   "id": "e28972aa",
   "metadata": {
    "execution": {
     "iopub.execute_input": "2024-10-15T21:49:19.661222Z",
     "iopub.status.busy": "2024-10-15T21:49:19.660780Z",
     "iopub.status.idle": "2024-10-15T21:49:28.143523Z",
     "shell.execute_reply": "2024-10-15T21:49:28.142253Z"
    },
    "papermill": {
     "duration": 8.492633,
     "end_time": "2024-10-15T21:49:28.146213",
     "exception": false,
     "start_time": "2024-10-15T21:49:19.653580",
     "status": "completed"
    },
    "tags": []
   },
   "outputs": [
    {
     "name": "stdout",
     "output_type": "stream",
     "text": [
      "System Version: 3.10.14 | packaged by conda-forge | (main, Mar 20 2024, 12:45:18) [GCC 12.3.0]\n",
      "PyTorch version 2.4.0+cpu\n",
      "Torchvision version 0.19.0+cpu\n",
      "Numpy version 1.26.4\n",
      "Pandas version 2.2.2\n"
     ]
    }
   ],
   "source": [
    "import torch\n",
    "import torch.nn as nn\n",
    "import torch.optim as optim\n",
    "from torch.utils.data import Dataset, DataLoader\n",
    "import torchvision\n",
    "import torchvision.transforms as transforms\n",
    "from torchvision.datasets import ImageFolder\n",
    "import timm\n",
    "\n",
    "import matplotlib.pyplot as plt # For data viz\n",
    "import pandas as pd\n",
    "import numpy as np\n",
    "import sys\n",
    "from tqdm.notebook import tqdm\n",
    "\n",
    "print('System Version:', sys.version)\n",
    "print('PyTorch version', torch.__version__)\n",
    "print('Torchvision version', torchvision.__version__)\n",
    "print('Numpy version', np.__version__)\n",
    "print('Pandas version', pd.__version__)"
   ]
  },
  {
   "cell_type": "markdown",
   "id": "fb973f60",
   "metadata": {
    "papermill": {
     "duration": 0.004663,
     "end_time": "2024-10-15T21:49:28.156067",
     "exception": false,
     "start_time": "2024-10-15T21:49:28.151404",
     "status": "completed"
    },
    "tags": []
   },
   "source": [
    "# CSV Cleansing"
   ]
  },
  {
   "cell_type": "code",
   "execution_count": 2,
   "id": "ce071135",
   "metadata": {
    "execution": {
     "iopub.execute_input": "2024-10-15T21:49:28.168221Z",
     "iopub.status.busy": "2024-10-15T21:49:28.167211Z",
     "iopub.status.idle": "2024-10-15T21:49:28.173059Z",
     "shell.execute_reply": "2024-10-15T21:49:28.171896Z"
    },
    "papermill": {
     "duration": 0.014398,
     "end_time": "2024-10-15T21:49:28.175446",
     "exception": false,
     "start_time": "2024-10-15T21:49:28.161048",
     "status": "completed"
    },
    "tags": []
   },
   "outputs": [],
   "source": [
    "csv_path='/kaggle/input/ocular-disease-recognition-odir5k/full_df.csv'"
   ]
  },
  {
   "cell_type": "code",
   "execution_count": 3,
   "id": "9b8cb61f",
   "metadata": {
    "execution": {
     "iopub.execute_input": "2024-10-15T21:49:28.187186Z",
     "iopub.status.busy": "2024-10-15T21:49:28.186754Z",
     "iopub.status.idle": "2024-10-15T21:49:28.265361Z",
     "shell.execute_reply": "2024-10-15T21:49:28.264159Z"
    },
    "papermill": {
     "duration": 0.087405,
     "end_time": "2024-10-15T21:49:28.267918",
     "exception": false,
     "start_time": "2024-10-15T21:49:28.180513",
     "status": "completed"
    },
    "tags": []
   },
   "outputs": [
    {
     "data": {
      "text/plain": [
       "(6392, 19)"
      ]
     },
     "execution_count": 3,
     "metadata": {},
     "output_type": "execute_result"
    }
   ],
   "source": [
    "csv = pd.read_csv(csv_path)\n",
    "csv.shape\n"
   ]
  },
  {
   "cell_type": "code",
   "execution_count": 4,
   "id": "00ab144d",
   "metadata": {
    "execution": {
     "iopub.execute_input": "2024-10-15T21:49:28.280283Z",
     "iopub.status.busy": "2024-10-15T21:49:28.279689Z",
     "iopub.status.idle": "2024-10-15T21:49:28.308596Z",
     "shell.execute_reply": "2024-10-15T21:49:28.307399Z"
    },
    "papermill": {
     "duration": 0.038366,
     "end_time": "2024-10-15T21:49:28.311268",
     "exception": false,
     "start_time": "2024-10-15T21:49:28.272902",
     "status": "completed"
    },
    "tags": []
   },
   "outputs": [
    {
     "data": {
      "text/html": [
       "<div>\n",
       "<style scoped>\n",
       "    .dataframe tbody tr th:only-of-type {\n",
       "        vertical-align: middle;\n",
       "    }\n",
       "\n",
       "    .dataframe tbody tr th {\n",
       "        vertical-align: top;\n",
       "    }\n",
       "\n",
       "    .dataframe thead th {\n",
       "        text-align: right;\n",
       "    }\n",
       "</style>\n",
       "<table border=\"1\" class=\"dataframe\">\n",
       "  <thead>\n",
       "    <tr style=\"text-align: right;\">\n",
       "      <th></th>\n",
       "      <th>ID</th>\n",
       "      <th>Patient Age</th>\n",
       "      <th>Patient Sex</th>\n",
       "      <th>Left-Fundus</th>\n",
       "      <th>Right-Fundus</th>\n",
       "      <th>Left-Diagnostic Keywords</th>\n",
       "      <th>Right-Diagnostic Keywords</th>\n",
       "      <th>N</th>\n",
       "      <th>D</th>\n",
       "      <th>G</th>\n",
       "      <th>C</th>\n",
       "      <th>A</th>\n",
       "      <th>H</th>\n",
       "      <th>M</th>\n",
       "      <th>O</th>\n",
       "      <th>filepath</th>\n",
       "      <th>labels</th>\n",
       "      <th>target</th>\n",
       "      <th>filename</th>\n",
       "    </tr>\n",
       "  </thead>\n",
       "  <tbody>\n",
       "    <tr>\n",
       "      <th>0</th>\n",
       "      <td>0</td>\n",
       "      <td>69</td>\n",
       "      <td>Female</td>\n",
       "      <td>0_left.jpg</td>\n",
       "      <td>0_right.jpg</td>\n",
       "      <td>cataract</td>\n",
       "      <td>normal fundus</td>\n",
       "      <td>0</td>\n",
       "      <td>0</td>\n",
       "      <td>0</td>\n",
       "      <td>1</td>\n",
       "      <td>0</td>\n",
       "      <td>0</td>\n",
       "      <td>0</td>\n",
       "      <td>0</td>\n",
       "      <td>../input/ocular-disease-recognition-odir5k/ODI...</td>\n",
       "      <td>['N']</td>\n",
       "      <td>[1, 0, 0, 0, 0, 0, 0, 0]</td>\n",
       "      <td>0_right.jpg</td>\n",
       "    </tr>\n",
       "    <tr>\n",
       "      <th>1</th>\n",
       "      <td>1</td>\n",
       "      <td>57</td>\n",
       "      <td>Male</td>\n",
       "      <td>1_left.jpg</td>\n",
       "      <td>1_right.jpg</td>\n",
       "      <td>normal fundus</td>\n",
       "      <td>normal fundus</td>\n",
       "      <td>1</td>\n",
       "      <td>0</td>\n",
       "      <td>0</td>\n",
       "      <td>0</td>\n",
       "      <td>0</td>\n",
       "      <td>0</td>\n",
       "      <td>0</td>\n",
       "      <td>0</td>\n",
       "      <td>../input/ocular-disease-recognition-odir5k/ODI...</td>\n",
       "      <td>['N']</td>\n",
       "      <td>[1, 0, 0, 0, 0, 0, 0, 0]</td>\n",
       "      <td>1_right.jpg</td>\n",
       "    </tr>\n",
       "    <tr>\n",
       "      <th>2</th>\n",
       "      <td>2</td>\n",
       "      <td>42</td>\n",
       "      <td>Male</td>\n",
       "      <td>2_left.jpg</td>\n",
       "      <td>2_right.jpg</td>\n",
       "      <td>laser spot，moderate non proliferative retinopathy</td>\n",
       "      <td>moderate non proliferative retinopathy</td>\n",
       "      <td>0</td>\n",
       "      <td>1</td>\n",
       "      <td>0</td>\n",
       "      <td>0</td>\n",
       "      <td>0</td>\n",
       "      <td>0</td>\n",
       "      <td>0</td>\n",
       "      <td>1</td>\n",
       "      <td>../input/ocular-disease-recognition-odir5k/ODI...</td>\n",
       "      <td>['D']</td>\n",
       "      <td>[0, 1, 0, 0, 0, 0, 0, 0]</td>\n",
       "      <td>2_right.jpg</td>\n",
       "    </tr>\n",
       "    <tr>\n",
       "      <th>3</th>\n",
       "      <td>4</td>\n",
       "      <td>53</td>\n",
       "      <td>Male</td>\n",
       "      <td>4_left.jpg</td>\n",
       "      <td>4_right.jpg</td>\n",
       "      <td>macular epiretinal membrane</td>\n",
       "      <td>mild nonproliferative retinopathy</td>\n",
       "      <td>0</td>\n",
       "      <td>1</td>\n",
       "      <td>0</td>\n",
       "      <td>0</td>\n",
       "      <td>0</td>\n",
       "      <td>0</td>\n",
       "      <td>0</td>\n",
       "      <td>1</td>\n",
       "      <td>../input/ocular-disease-recognition-odir5k/ODI...</td>\n",
       "      <td>['D']</td>\n",
       "      <td>[0, 1, 0, 0, 0, 0, 0, 0]</td>\n",
       "      <td>4_right.jpg</td>\n",
       "    </tr>\n",
       "    <tr>\n",
       "      <th>4</th>\n",
       "      <td>5</td>\n",
       "      <td>50</td>\n",
       "      <td>Female</td>\n",
       "      <td>5_left.jpg</td>\n",
       "      <td>5_right.jpg</td>\n",
       "      <td>moderate non proliferative retinopathy</td>\n",
       "      <td>moderate non proliferative retinopathy</td>\n",
       "      <td>0</td>\n",
       "      <td>1</td>\n",
       "      <td>0</td>\n",
       "      <td>0</td>\n",
       "      <td>0</td>\n",
       "      <td>0</td>\n",
       "      <td>0</td>\n",
       "      <td>0</td>\n",
       "      <td>../input/ocular-disease-recognition-odir5k/ODI...</td>\n",
       "      <td>['D']</td>\n",
       "      <td>[0, 1, 0, 0, 0, 0, 0, 0]</td>\n",
       "      <td>5_right.jpg</td>\n",
       "    </tr>\n",
       "  </tbody>\n",
       "</table>\n",
       "</div>"
      ],
      "text/plain": [
       "   ID  Patient Age Patient Sex Left-Fundus Right-Fundus  \\\n",
       "0   0           69      Female  0_left.jpg  0_right.jpg   \n",
       "1   1           57        Male  1_left.jpg  1_right.jpg   \n",
       "2   2           42        Male  2_left.jpg  2_right.jpg   \n",
       "3   4           53        Male  4_left.jpg  4_right.jpg   \n",
       "4   5           50      Female  5_left.jpg  5_right.jpg   \n",
       "\n",
       "                            Left-Diagnostic Keywords  \\\n",
       "0                                           cataract   \n",
       "1                                      normal fundus   \n",
       "2  laser spot，moderate non proliferative retinopathy   \n",
       "3                        macular epiretinal membrane   \n",
       "4             moderate non proliferative retinopathy   \n",
       "\n",
       "                Right-Diagnostic Keywords  N  D  G  C  A  H  M  O  \\\n",
       "0                           normal fundus  0  0  0  1  0  0  0  0   \n",
       "1                           normal fundus  1  0  0  0  0  0  0  0   \n",
       "2  moderate non proliferative retinopathy  0  1  0  0  0  0  0  1   \n",
       "3       mild nonproliferative retinopathy  0  1  0  0  0  0  0  1   \n",
       "4  moderate non proliferative retinopathy  0  1  0  0  0  0  0  0   \n",
       "\n",
       "                                            filepath labels  \\\n",
       "0  ../input/ocular-disease-recognition-odir5k/ODI...  ['N']   \n",
       "1  ../input/ocular-disease-recognition-odir5k/ODI...  ['N']   \n",
       "2  ../input/ocular-disease-recognition-odir5k/ODI...  ['D']   \n",
       "3  ../input/ocular-disease-recognition-odir5k/ODI...  ['D']   \n",
       "4  ../input/ocular-disease-recognition-odir5k/ODI...  ['D']   \n",
       "\n",
       "                     target     filename  \n",
       "0  [1, 0, 0, 0, 0, 0, 0, 0]  0_right.jpg  \n",
       "1  [1, 0, 0, 0, 0, 0, 0, 0]  1_right.jpg  \n",
       "2  [0, 1, 0, 0, 0, 0, 0, 0]  2_right.jpg  \n",
       "3  [0, 1, 0, 0, 0, 0, 0, 0]  4_right.jpg  \n",
       "4  [0, 1, 0, 0, 0, 0, 0, 0]  5_right.jpg  "
      ]
     },
     "execution_count": 4,
     "metadata": {},
     "output_type": "execute_result"
    }
   ],
   "source": [
    "csv.head()"
   ]
  },
  {
   "cell_type": "markdown",
   "id": "314faa98",
   "metadata": {
    "papermill": {
     "duration": 0.005063,
     "end_time": "2024-10-15T21:49:28.321883",
     "exception": false,
     "start_time": "2024-10-15T21:49:28.316820",
     "status": "completed"
    },
    "tags": []
   },
   "source": [
    "# Dataset"
   ]
  },
  {
   "cell_type": "code",
   "execution_count": 5,
   "id": "73a1f185",
   "metadata": {
    "execution": {
     "iopub.execute_input": "2024-10-15T21:49:28.335405Z",
     "iopub.status.busy": "2024-10-15T21:49:28.334199Z",
     "iopub.status.idle": "2024-10-15T21:49:28.339812Z",
     "shell.execute_reply": "2024-10-15T21:49:28.338724Z"
    },
    "papermill": {
     "duration": 0.01489,
     "end_time": "2024-10-15T21:49:28.342371",
     "exception": false,
     "start_time": "2024-10-15T21:49:28.327481",
     "status": "completed"
    },
    "tags": []
   },
   "outputs": [],
   "source": [
    "train_path='/kaggle/input/ocular-disease-recognition-odir5k/ODIR-5K/ODIR-5K/Training Images'\n",
    "test_path='/kaggle/input/ocular-disease-recognition-odir5k/ODIR-5K/ODIR-5K/Testing Images'"
   ]
  },
  {
   "cell_type": "code",
   "execution_count": 6,
   "id": "6c94f215",
   "metadata": {
    "execution": {
     "iopub.execute_input": "2024-10-15T21:49:28.356090Z",
     "iopub.status.busy": "2024-10-15T21:49:28.354841Z",
     "iopub.status.idle": "2024-10-15T21:49:28.361438Z",
     "shell.execute_reply": "2024-10-15T21:49:28.360134Z"
    },
    "papermill": {
     "duration": 0.015912,
     "end_time": "2024-10-15T21:49:28.363867",
     "exception": false,
     "start_time": "2024-10-15T21:49:28.347955",
     "status": "completed"
    },
    "tags": []
   },
   "outputs": [],
   "source": [
    "class_labels = ['Normal', 'Diabetes', 'Glaucoma', 'Cataract', 'Age Related Macular Degeneration', 'Hypertension', 'Pathological Myopia', 'Other Disease']\n",
    "class_labels_map = {}\n",
    "for indx, label in enumerate(class_labels):\n",
    "  class_labels_map[str(indx)] = label"
   ]
  },
  {
   "cell_type": "code",
   "execution_count": 7,
   "id": "b718ebbd",
   "metadata": {
    "execution": {
     "iopub.execute_input": "2024-10-15T21:49:28.377050Z",
     "iopub.status.busy": "2024-10-15T21:49:28.376050Z",
     "iopub.status.idle": "2024-10-15T21:49:28.381688Z",
     "shell.execute_reply": "2024-10-15T21:49:28.380609Z"
    },
    "papermill": {
     "duration": 0.014792,
     "end_time": "2024-10-15T21:49:28.384185",
     "exception": false,
     "start_time": "2024-10-15T21:49:28.369393",
     "status": "completed"
    },
    "tags": []
   },
   "outputs": [],
   "source": [
    "IMAGE_SIZE = 224\n",
    "data_transform = transforms.Compose([transforms.Resize((IMAGE_SIZE, IMAGE_SIZE)), \n",
    "                                             transforms.ToTensor()])"
   ]
  },
  {
   "cell_type": "code",
   "execution_count": 8,
   "id": "680899e6",
   "metadata": {
    "execution": {
     "iopub.execute_input": "2024-10-15T21:49:28.397525Z",
     "iopub.status.busy": "2024-10-15T21:49:28.397086Z",
     "iopub.status.idle": "2024-10-15T21:49:28.405143Z",
     "shell.execute_reply": "2024-10-15T21:49:28.404062Z"
    },
    "papermill": {
     "duration": 0.017641,
     "end_time": "2024-10-15T21:49:28.407634",
     "exception": false,
     "start_time": "2024-10-15T21:49:28.389993",
     "status": "completed"
    },
    "tags": []
   },
   "outputs": [],
   "source": [
    "class OcularDiseaseDataset(Dataset):\n",
    "    def __init__(self, csv_file, class_list, transform=None):\n",
    "        self.df = pd.read_csv(csv_file)\n",
    "        self.transform = transform\n",
    "        self.class_list = class_list\n",
    "\n",
    "    def __len__(self):\n",
    "        return self.df.shape[0]\n",
    "\n",
    "    def __getitem__(self, index):\n",
    "        image = Image.open(self.df.file_path[index])\n",
    "        label = self.class_list.index(self.df.label[index])\n",
    "  \n",
    "        if self.transform:\n",
    "            image = self.transform(image)\n",
    "        return image, label"
   ]
  },
  {
   "cell_type": "code",
   "execution_count": 9,
   "id": "c7e18040",
   "metadata": {
    "execution": {
     "iopub.execute_input": "2024-10-15T21:49:28.420784Z",
     "iopub.status.busy": "2024-10-15T21:49:28.420051Z",
     "iopub.status.idle": "2024-10-15T21:49:28.466925Z",
     "shell.execute_reply": "2024-10-15T21:49:28.465731Z"
    },
    "papermill": {
     "duration": 0.056527,
     "end_time": "2024-10-15T21:49:28.469810",
     "exception": false,
     "start_time": "2024-10-15T21:49:28.413283",
     "status": "completed"
    },
    "tags": []
   },
   "outputs": [],
   "source": [
    "train_dataset = OcularDiseaseDataset(\n",
    "    csv_path,\n",
    "    class_labels,\n",
    "    data_transform\n",
    ")"
   ]
  },
  {
   "cell_type": "code",
   "execution_count": 10,
   "id": "9ab750a0",
   "metadata": {
    "execution": {
     "iopub.execute_input": "2024-10-15T21:49:28.482930Z",
     "iopub.status.busy": "2024-10-15T21:49:28.481887Z",
     "iopub.status.idle": "2024-10-15T21:49:28.489019Z",
     "shell.execute_reply": "2024-10-15T21:49:28.488008Z"
    },
    "papermill": {
     "duration": 0.016533,
     "end_time": "2024-10-15T21:49:28.491807",
     "exception": false,
     "start_time": "2024-10-15T21:49:28.475274",
     "status": "completed"
    },
    "tags": []
   },
   "outputs": [
    {
     "data": {
      "text/plain": [
       "6392"
      ]
     },
     "execution_count": 10,
     "metadata": {},
     "output_type": "execute_result"
    }
   ],
   "source": [
    "len(train_dataset)"
   ]
  }
 ],
 "metadata": {
  "kaggle": {
   "accelerator": "none",
   "dataSources": [
    {
     "datasetId": 611716,
     "sourceId": 1512919,
     "sourceType": "datasetVersion"
    }
   ],
   "dockerImageVersionId": 30775,
   "isGpuEnabled": false,
   "isInternetEnabled": false,
   "language": "python",
   "sourceType": "notebook"
  },
  "kernelspec": {
   "display_name": "Python 3",
   "language": "python",
   "name": "python3"
  },
  "language_info": {
   "codemirror_mode": {
    "name": "ipython",
    "version": 3
   },
   "file_extension": ".py",
   "mimetype": "text/x-python",
   "name": "python",
   "nbconvert_exporter": "python",
   "pygments_lexer": "ipython3",
   "version": "3.10.14"
  },
  "papermill": {
   "default_parameters": {},
   "duration": 13.435247,
   "end_time": "2024-10-15T21:49:29.922479",
   "environment_variables": {},
   "exception": null,
   "input_path": "__notebook__.ipynb",
   "output_path": "__notebook__.ipynb",
   "parameters": {},
   "start_time": "2024-10-15T21:49:16.487232",
   "version": "2.6.0"
  }
 },
 "nbformat": 4,
 "nbformat_minor": 5
}
