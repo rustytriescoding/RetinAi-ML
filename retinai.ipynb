{
 "cells": [
  {
   "cell_type": "code",
   "execution_count": 1,
   "id": "0fa106d3",
   "metadata": {
    "execution": {
     "iopub.execute_input": "2024-10-15T23:22:15.161778Z",
     "iopub.status.busy": "2024-10-15T23:22:15.161344Z",
     "iopub.status.idle": "2024-10-15T23:22:22.840483Z",
     "shell.execute_reply": "2024-10-15T23:22:22.839293Z"
    },
    "papermill": {
     "duration": 7.689033,
     "end_time": "2024-10-15T23:22:22.843186",
     "exception": false,
     "start_time": "2024-10-15T23:22:15.154153",
     "status": "completed"
    },
    "tags": []
   },
   "outputs": [
    {
     "name": "stdout",
     "output_type": "stream",
     "text": [
      "System Version: 3.10.14 | packaged by conda-forge | (main, Mar 20 2024, 12:45:18) [GCC 12.3.0]\n",
      "PyTorch version 2.4.0+cpu\n",
      "Torchvision version 0.19.0+cpu\n",
      "Numpy version 1.26.4\n",
      "Pandas version 2.2.2\n"
     ]
    }
   ],
   "source": [
    "import torch\n",
    "import torch.nn as nn\n",
    "import torch.optim as optim\n",
    "from torch.utils.data import Dataset, DataLoader\n",
    "import torchvision\n",
    "import torchvision.transforms as transforms\n",
    "from torchvision.datasets import ImageFolder\n",
    "import timm\n",
    "\n",
    "import matplotlib.pyplot as plt # For data viz\n",
    "import pandas as pd\n",
    "import numpy as np\n",
    "import sys\n",
    "import os\n",
    "from tqdm.notebook import tqdm\n",
    "\n",
    "from PIL import Image\n",
    "\n",
    "print('System Version:', sys.version)\n",
    "print('PyTorch version', torch.__version__)\n",
    "print('Torchvision version', torchvision.__version__)\n",
    "print('Numpy version', np.__version__)\n",
    "print('Pandas version', pd.__version__)"
   ]
  },
  {
   "cell_type": "markdown",
   "id": "b6a7ef6d",
   "metadata": {
    "papermill": {
     "duration": 0.004806,
     "end_time": "2024-10-15T23:22:22.853289",
     "exception": false,
     "start_time": "2024-10-15T23:22:22.848483",
     "status": "completed"
    },
    "tags": []
   },
   "source": [
    "# CSV Cleansing"
   ]
  },
  {
   "cell_type": "code",
   "execution_count": 2,
   "id": "7b487984",
   "metadata": {
    "execution": {
     "iopub.execute_input": "2024-10-15T23:22:22.864925Z",
     "iopub.status.busy": "2024-10-15T23:22:22.864307Z",
     "iopub.status.idle": "2024-10-15T23:22:22.869561Z",
     "shell.execute_reply": "2024-10-15T23:22:22.868518Z"
    },
    "papermill": {
     "duration": 0.013561,
     "end_time": "2024-10-15T23:22:22.871688",
     "exception": false,
     "start_time": "2024-10-15T23:22:22.858127",
     "status": "completed"
    },
    "tags": []
   },
   "outputs": [],
   "source": [
    "csv_path='/kaggle/input/fundusimage/ocular-disease-recognition-odir5k/full_df.csv'"
   ]
  },
  {
   "cell_type": "code",
   "execution_count": 3,
   "id": "10610c8b",
   "metadata": {
    "execution": {
     "iopub.execute_input": "2024-10-15T23:22:22.882834Z",
     "iopub.status.busy": "2024-10-15T23:22:22.882445Z",
     "iopub.status.idle": "2024-10-15T23:22:22.963293Z",
     "shell.execute_reply": "2024-10-15T23:22:22.962214Z"
    },
    "papermill": {
     "duration": 0.08927,
     "end_time": "2024-10-15T23:22:22.965863",
     "exception": false,
     "start_time": "2024-10-15T23:22:22.876593",
     "status": "completed"
    },
    "tags": []
   },
   "outputs": [
    {
     "data": {
      "text/plain": [
       "(6392, 19)"
      ]
     },
     "execution_count": 3,
     "metadata": {},
     "output_type": "execute_result"
    }
   ],
   "source": [
    "csv = pd.read_csv(csv_path)\n",
    "csv.shape\n"
   ]
  },
  {
   "cell_type": "code",
   "execution_count": 4,
   "id": "f2400544",
   "metadata": {
    "execution": {
     "iopub.execute_input": "2024-10-15T23:22:22.978292Z",
     "iopub.status.busy": "2024-10-15T23:22:22.977867Z",
     "iopub.status.idle": "2024-10-15T23:22:23.006239Z",
     "shell.execute_reply": "2024-10-15T23:22:23.004274Z"
    },
    "papermill": {
     "duration": 0.037732,
     "end_time": "2024-10-15T23:22:23.008858",
     "exception": false,
     "start_time": "2024-10-15T23:22:22.971126",
     "status": "completed"
    },
    "tags": []
   },
   "outputs": [
    {
     "data": {
      "text/html": [
       "<div>\n",
       "<style scoped>\n",
       "    .dataframe tbody tr th:only-of-type {\n",
       "        vertical-align: middle;\n",
       "    }\n",
       "\n",
       "    .dataframe tbody tr th {\n",
       "        vertical-align: top;\n",
       "    }\n",
       "\n",
       "    .dataframe thead th {\n",
       "        text-align: right;\n",
       "    }\n",
       "</style>\n",
       "<table border=\"1\" class=\"dataframe\">\n",
       "  <thead>\n",
       "    <tr style=\"text-align: right;\">\n",
       "      <th></th>\n",
       "      <th>ID</th>\n",
       "      <th>Patient Age</th>\n",
       "      <th>Patient Sex</th>\n",
       "      <th>Left-Fundus</th>\n",
       "      <th>Right-Fundus</th>\n",
       "      <th>Left-Diagnostic Keywords</th>\n",
       "      <th>Right-Diagnostic Keywords</th>\n",
       "      <th>N</th>\n",
       "      <th>D</th>\n",
       "      <th>G</th>\n",
       "      <th>C</th>\n",
       "      <th>A</th>\n",
       "      <th>H</th>\n",
       "      <th>M</th>\n",
       "      <th>O</th>\n",
       "      <th>filepath</th>\n",
       "      <th>labels</th>\n",
       "      <th>target</th>\n",
       "      <th>filename</th>\n",
       "    </tr>\n",
       "  </thead>\n",
       "  <tbody>\n",
       "    <tr>\n",
       "      <th>0</th>\n",
       "      <td>0</td>\n",
       "      <td>69</td>\n",
       "      <td>Female</td>\n",
       "      <td>0_left.jpg</td>\n",
       "      <td>0_right.jpg</td>\n",
       "      <td>cataract</td>\n",
       "      <td>normal fundus</td>\n",
       "      <td>0</td>\n",
       "      <td>0</td>\n",
       "      <td>0</td>\n",
       "      <td>1</td>\n",
       "      <td>0</td>\n",
       "      <td>0</td>\n",
       "      <td>0</td>\n",
       "      <td>0</td>\n",
       "      <td>../input/ocular-disease-recognition-odir5k/ODI...</td>\n",
       "      <td>['N']</td>\n",
       "      <td>[1, 0, 0, 0, 0, 0, 0, 0]</td>\n",
       "      <td>0_right.jpg</td>\n",
       "    </tr>\n",
       "    <tr>\n",
       "      <th>1</th>\n",
       "      <td>1</td>\n",
       "      <td>57</td>\n",
       "      <td>Male</td>\n",
       "      <td>1_left.jpg</td>\n",
       "      <td>1_right.jpg</td>\n",
       "      <td>normal fundus</td>\n",
       "      <td>normal fundus</td>\n",
       "      <td>1</td>\n",
       "      <td>0</td>\n",
       "      <td>0</td>\n",
       "      <td>0</td>\n",
       "      <td>0</td>\n",
       "      <td>0</td>\n",
       "      <td>0</td>\n",
       "      <td>0</td>\n",
       "      <td>../input/ocular-disease-recognition-odir5k/ODI...</td>\n",
       "      <td>['N']</td>\n",
       "      <td>[1, 0, 0, 0, 0, 0, 0, 0]</td>\n",
       "      <td>1_right.jpg</td>\n",
       "    </tr>\n",
       "    <tr>\n",
       "      <th>2</th>\n",
       "      <td>2</td>\n",
       "      <td>42</td>\n",
       "      <td>Male</td>\n",
       "      <td>2_left.jpg</td>\n",
       "      <td>2_right.jpg</td>\n",
       "      <td>laser spot，moderate non proliferative retinopathy</td>\n",
       "      <td>moderate non proliferative retinopathy</td>\n",
       "      <td>0</td>\n",
       "      <td>1</td>\n",
       "      <td>0</td>\n",
       "      <td>0</td>\n",
       "      <td>0</td>\n",
       "      <td>0</td>\n",
       "      <td>0</td>\n",
       "      <td>1</td>\n",
       "      <td>../input/ocular-disease-recognition-odir5k/ODI...</td>\n",
       "      <td>['D']</td>\n",
       "      <td>[0, 1, 0, 0, 0, 0, 0, 0]</td>\n",
       "      <td>2_right.jpg</td>\n",
       "    </tr>\n",
       "    <tr>\n",
       "      <th>3</th>\n",
       "      <td>4</td>\n",
       "      <td>53</td>\n",
       "      <td>Male</td>\n",
       "      <td>4_left.jpg</td>\n",
       "      <td>4_right.jpg</td>\n",
       "      <td>macular epiretinal membrane</td>\n",
       "      <td>mild nonproliferative retinopathy</td>\n",
       "      <td>0</td>\n",
       "      <td>1</td>\n",
       "      <td>0</td>\n",
       "      <td>0</td>\n",
       "      <td>0</td>\n",
       "      <td>0</td>\n",
       "      <td>0</td>\n",
       "      <td>1</td>\n",
       "      <td>../input/ocular-disease-recognition-odir5k/ODI...</td>\n",
       "      <td>['D']</td>\n",
       "      <td>[0, 1, 0, 0, 0, 0, 0, 0]</td>\n",
       "      <td>4_right.jpg</td>\n",
       "    </tr>\n",
       "    <tr>\n",
       "      <th>4</th>\n",
       "      <td>5</td>\n",
       "      <td>50</td>\n",
       "      <td>Female</td>\n",
       "      <td>5_left.jpg</td>\n",
       "      <td>5_right.jpg</td>\n",
       "      <td>moderate non proliferative retinopathy</td>\n",
       "      <td>moderate non proliferative retinopathy</td>\n",
       "      <td>0</td>\n",
       "      <td>1</td>\n",
       "      <td>0</td>\n",
       "      <td>0</td>\n",
       "      <td>0</td>\n",
       "      <td>0</td>\n",
       "      <td>0</td>\n",
       "      <td>0</td>\n",
       "      <td>../input/ocular-disease-recognition-odir5k/ODI...</td>\n",
       "      <td>['D']</td>\n",
       "      <td>[0, 1, 0, 0, 0, 0, 0, 0]</td>\n",
       "      <td>5_right.jpg</td>\n",
       "    </tr>\n",
       "  </tbody>\n",
       "</table>\n",
       "</div>"
      ],
      "text/plain": [
       "   ID  Patient Age Patient Sex Left-Fundus Right-Fundus  \\\n",
       "0   0           69      Female  0_left.jpg  0_right.jpg   \n",
       "1   1           57        Male  1_left.jpg  1_right.jpg   \n",
       "2   2           42        Male  2_left.jpg  2_right.jpg   \n",
       "3   4           53        Male  4_left.jpg  4_right.jpg   \n",
       "4   5           50      Female  5_left.jpg  5_right.jpg   \n",
       "\n",
       "                            Left-Diagnostic Keywords  \\\n",
       "0                                           cataract   \n",
       "1                                      normal fundus   \n",
       "2  laser spot，moderate non proliferative retinopathy   \n",
       "3                        macular epiretinal membrane   \n",
       "4             moderate non proliferative retinopathy   \n",
       "\n",
       "                Right-Diagnostic Keywords  N  D  G  C  A  H  M  O  \\\n",
       "0                           normal fundus  0  0  0  1  0  0  0  0   \n",
       "1                           normal fundus  1  0  0  0  0  0  0  0   \n",
       "2  moderate non proliferative retinopathy  0  1  0  0  0  0  0  1   \n",
       "3       mild nonproliferative retinopathy  0  1  0  0  0  0  0  1   \n",
       "4  moderate non proliferative retinopathy  0  1  0  0  0  0  0  0   \n",
       "\n",
       "                                            filepath labels  \\\n",
       "0  ../input/ocular-disease-recognition-odir5k/ODI...  ['N']   \n",
       "1  ../input/ocular-disease-recognition-odir5k/ODI...  ['N']   \n",
       "2  ../input/ocular-disease-recognition-odir5k/ODI...  ['D']   \n",
       "3  ../input/ocular-disease-recognition-odir5k/ODI...  ['D']   \n",
       "4  ../input/ocular-disease-recognition-odir5k/ODI...  ['D']   \n",
       "\n",
       "                     target     filename  \n",
       "0  [1, 0, 0, 0, 0, 0, 0, 0]  0_right.jpg  \n",
       "1  [1, 0, 0, 0, 0, 0, 0, 0]  1_right.jpg  \n",
       "2  [0, 1, 0, 0, 0, 0, 0, 0]  2_right.jpg  \n",
       "3  [0, 1, 0, 0, 0, 0, 0, 0]  4_right.jpg  \n",
       "4  [0, 1, 0, 0, 0, 0, 0, 0]  5_right.jpg  "
      ]
     },
     "execution_count": 4,
     "metadata": {},
     "output_type": "execute_result"
    }
   ],
   "source": [
    "csv.head()"
   ]
  },
  {
   "cell_type": "markdown",
   "id": "39f59186",
   "metadata": {
    "papermill": {
     "duration": 0.005369,
     "end_time": "2024-10-15T23:22:23.019820",
     "exception": false,
     "start_time": "2024-10-15T23:22:23.014451",
     "status": "completed"
    },
    "tags": []
   },
   "source": [
    "# Dataset"
   ]
  },
  {
   "cell_type": "code",
   "execution_count": 5,
   "id": "8e7c4667",
   "metadata": {
    "execution": {
     "iopub.execute_input": "2024-10-15T23:22:23.032482Z",
     "iopub.status.busy": "2024-10-15T23:22:23.032060Z",
     "iopub.status.idle": "2024-10-15T23:22:23.037065Z",
     "shell.execute_reply": "2024-10-15T23:22:23.035953Z"
    },
    "papermill": {
     "duration": 0.014214,
     "end_time": "2024-10-15T23:22:23.039466",
     "exception": false,
     "start_time": "2024-10-15T23:22:23.025252",
     "status": "completed"
    },
    "tags": []
   },
   "outputs": [],
   "source": [
    "train_path='/kaggle/input/fundusimage/ocular-disease-recognition-odir5k/ODIR-5K/Training Images'\n",
    "test_path='/kaggle/input/fundusimage/ocular-disease-recognition-odir5k/ODIR-5K/Testing Images'"
   ]
  },
  {
   "cell_type": "code",
   "execution_count": 6,
   "id": "883fc1a0",
   "metadata": {
    "execution": {
     "iopub.execute_input": "2024-10-15T23:22:23.052469Z",
     "iopub.status.busy": "2024-10-15T23:22:23.052004Z",
     "iopub.status.idle": "2024-10-15T23:22:23.058019Z",
     "shell.execute_reply": "2024-10-15T23:22:23.056941Z"
    },
    "papermill": {
     "duration": 0.015383,
     "end_time": "2024-10-15T23:22:23.060304",
     "exception": false,
     "start_time": "2024-10-15T23:22:23.044921",
     "status": "completed"
    },
    "tags": []
   },
   "outputs": [],
   "source": [
    "class_labels = ['N', 'D', 'G', 'C', 'A', 'H', 'M', 'O']\n"
   ]
  },
  {
   "cell_type": "code",
   "execution_count": 7,
   "id": "1c594b57",
   "metadata": {
    "execution": {
     "iopub.execute_input": "2024-10-15T23:22:23.072655Z",
     "iopub.status.busy": "2024-10-15T23:22:23.072250Z",
     "iopub.status.idle": "2024-10-15T23:22:23.077514Z",
     "shell.execute_reply": "2024-10-15T23:22:23.076499Z"
    },
    "papermill": {
     "duration": 0.013873,
     "end_time": "2024-10-15T23:22:23.079691",
     "exception": false,
     "start_time": "2024-10-15T23:22:23.065818",
     "status": "completed"
    },
    "tags": []
   },
   "outputs": [],
   "source": [
    "IMAGE_SIZE = 224\n",
    "data_transform = transforms.Compose([transforms.Resize((IMAGE_SIZE, IMAGE_SIZE))])\n",
    "# data_transform = transforms.Compose([transforms.Resize((IMAGE_SIZE, IMAGE_SIZE)), \n",
    "#                                              transforms.ToTensor()])"
   ]
  },
  {
   "cell_type": "code",
   "execution_count": 8,
   "id": "964e6f31",
   "metadata": {
    "execution": {
     "iopub.execute_input": "2024-10-15T23:22:23.092097Z",
     "iopub.status.busy": "2024-10-15T23:22:23.091716Z",
     "iopub.status.idle": "2024-10-15T23:22:23.099772Z",
     "shell.execute_reply": "2024-10-15T23:22:23.098755Z"
    },
    "papermill": {
     "duration": 0.016796,
     "end_time": "2024-10-15T23:22:23.102062",
     "exception": false,
     "start_time": "2024-10-15T23:22:23.085266",
     "status": "completed"
    },
    "tags": []
   },
   "outputs": [],
   "source": [
    "class OcularDiseaseDataset(Dataset):\n",
    "    def __init__(self, csv_file, transform=None):\n",
    "        self.df = pd.read_csv(csv_file)  # DataFrame containing the paths and labels\n",
    "        self.transform = transform  # Transformations (if any)\n",
    "\n",
    "    def __len__(self):\n",
    "        return len(self.df)  # Return the total number of data points\n",
    "\n",
    "    def __getitem__(self, index):\n",
    "        relative_path = self.df.filepath[index].replace('../input', '/kaggle/input/fundusimage')\n",
    "        image_path = os.path.join('/kaggle/input/fundusimage', relative_path)\n",
    "\n",
    "        image = Image.open(image_path)\n",
    "        label = self.df.labels[index]\n",
    "\n",
    "        if self.transform:\n",
    "            image = self.transform(image)\n",
    "        return image, label\n"
   ]
  },
  {
   "cell_type": "code",
   "execution_count": 9,
   "id": "8af23ee7",
   "metadata": {
    "execution": {
     "iopub.execute_input": "2024-10-15T23:22:23.114498Z",
     "iopub.status.busy": "2024-10-15T23:22:23.114103Z",
     "iopub.status.idle": "2024-10-15T23:22:23.162076Z",
     "shell.execute_reply": "2024-10-15T23:22:23.160881Z"
    },
    "papermill": {
     "duration": 0.057322,
     "end_time": "2024-10-15T23:22:23.164823",
     "exception": false,
     "start_time": "2024-10-15T23:22:23.107501",
     "status": "completed"
    },
    "tags": []
   },
   "outputs": [],
   "source": [
    "train_dataset = OcularDiseaseDataset(\n",
    "    csv_path,\n",
    "    data_transform\n",
    ")"
   ]
  },
  {
   "cell_type": "code",
   "execution_count": 10,
   "id": "783fc10a",
   "metadata": {
    "execution": {
     "iopub.execute_input": "2024-10-15T23:22:23.178618Z",
     "iopub.status.busy": "2024-10-15T23:22:23.178187Z",
     "iopub.status.idle": "2024-10-15T23:22:23.185053Z",
     "shell.execute_reply": "2024-10-15T23:22:23.183993Z"
    },
    "papermill": {
     "duration": 0.01701,
     "end_time": "2024-10-15T23:22:23.187466",
     "exception": false,
     "start_time": "2024-10-15T23:22:23.170456",
     "status": "completed"
    },
    "tags": []
   },
   "outputs": [
    {
     "data": {
      "text/plain": [
       "6392"
      ]
     },
     "execution_count": 10,
     "metadata": {},
     "output_type": "execute_result"
    }
   ],
   "source": [
    "len(train_dataset)"
   ]
  },
  {
   "cell_type": "code",
   "execution_count": 11,
   "id": "00406543",
   "metadata": {
    "execution": {
     "iopub.execute_input": "2024-10-15T23:22:23.200371Z",
     "iopub.status.busy": "2024-10-15T23:22:23.199921Z",
     "iopub.status.idle": "2024-10-15T23:22:23.278028Z",
     "shell.execute_reply": "2024-10-15T23:22:23.276953Z"
    },
    "papermill": {
     "duration": 0.087398,
     "end_time": "2024-10-15T23:22:23.280459",
     "exception": false,
     "start_time": "2024-10-15T23:22:23.193061",
     "status": "completed"
    },
    "tags": []
   },
   "outputs": [
    {
     "data": {
      "text/plain": [
       "(<PIL.Image.Image image mode=RGB size=224x224>, \"['N']\")"
      ]
     },
     "execution_count": 11,
     "metadata": {},
     "output_type": "execute_result"
    }
   ],
   "source": [
    "train_dataset.__getitem__(0)"
   ]
  }
 ],
 "metadata": {
  "kaggle": {
   "accelerator": "none",
   "dataSources": [
    {
     "datasetId": 5882853,
     "sourceId": 9635244,
     "sourceType": "datasetVersion"
    }
   ],
   "dockerImageVersionId": 30775,
   "isGpuEnabled": false,
   "isInternetEnabled": false,
   "language": "python",
   "sourceType": "notebook"
  },
  "kernelspec": {
   "display_name": "Python 3",
   "language": "python",
   "name": "python3"
  },
  "language_info": {
   "codemirror_mode": {
    "name": "ipython",
    "version": 3
   },
   "file_extension": ".py",
   "mimetype": "text/x-python",
   "name": "python",
   "nbconvert_exporter": "python",
   "pygments_lexer": "ipython3",
   "version": "3.10.14"
  },
  "papermill": {
   "default_parameters": {},
   "duration": 12.443264,
   "end_time": "2024-10-15T23:22:24.709884",
   "environment_variables": {},
   "exception": null,
   "input_path": "__notebook__.ipynb",
   "output_path": "__notebook__.ipynb",
   "parameters": {},
   "start_time": "2024-10-15T23:22:12.266620",
   "version": "2.6.0"
  }
 },
 "nbformat": 4,
 "nbformat_minor": 5
}
