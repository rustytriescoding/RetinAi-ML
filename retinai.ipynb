{
 "cells": [
  {
   "cell_type": "code",
   "execution_count": 1,
   "id": "05f071c0",
   "metadata": {
    "execution": {
     "iopub.execute_input": "2024-10-15T23:42:50.193140Z",
     "iopub.status.busy": "2024-10-15T23:42:50.192729Z",
     "iopub.status.idle": "2024-10-15T23:42:58.053597Z",
     "shell.execute_reply": "2024-10-15T23:42:58.052116Z"
    },
    "papermill": {
     "duration": 7.870677,
     "end_time": "2024-10-15T23:42:58.056395",
     "exception": false,
     "start_time": "2024-10-15T23:42:50.185718",
     "status": "completed"
    },
    "tags": []
   },
   "outputs": [
    {
     "name": "stdout",
     "output_type": "stream",
     "text": [
      "System Version: 3.10.14 | packaged by conda-forge | (main, Mar 20 2024, 12:45:18) [GCC 12.3.0]\n",
      "PyTorch version 2.4.0+cpu\n",
      "Torchvision version 0.19.0+cpu\n",
      "Numpy version 1.26.4\n",
      "Pandas version 2.2.2\n"
     ]
    }
   ],
   "source": [
    "import torch\n",
    "import torch.nn as nn\n",
    "import torch.optim as optim\n",
    "from torch.utils.data import Dataset, DataLoader\n",
    "import torchvision\n",
    "import torchvision.transforms as transforms\n",
    "from torchvision.datasets import ImageFolder\n",
    "import timm\n",
    "\n",
    "import matplotlib.pyplot as plt # For data viz\n",
    "import pandas as pd\n",
    "import numpy as np\n",
    "import sys\n",
    "import os\n",
    "from tqdm.notebook import tqdm\n",
    "\n",
    "from PIL import Image\n",
    "\n",
    "print('System Version:', sys.version)\n",
    "print('PyTorch version', torch.__version__)\n",
    "print('Torchvision version', torchvision.__version__)\n",
    "print('Numpy version', np.__version__)\n",
    "print('Pandas version', pd.__version__)"
   ]
  },
  {
   "cell_type": "markdown",
   "id": "239ece8a",
   "metadata": {
    "papermill": {
     "duration": 0.004055,
     "end_time": "2024-10-15T23:42:58.065032",
     "exception": false,
     "start_time": "2024-10-15T23:42:58.060977",
     "status": "completed"
    },
    "tags": []
   },
   "source": [
    "# CSV Cleansing"
   ]
  },
  {
   "cell_type": "code",
   "execution_count": 2,
   "id": "652d1650",
   "metadata": {
    "execution": {
     "iopub.execute_input": "2024-10-15T23:42:58.077138Z",
     "iopub.status.busy": "2024-10-15T23:42:58.076556Z",
     "iopub.status.idle": "2024-10-15T23:42:58.081961Z",
     "shell.execute_reply": "2024-10-15T23:42:58.080786Z"
    },
    "papermill": {
     "duration": 0.014553,
     "end_time": "2024-10-15T23:42:58.084224",
     "exception": false,
     "start_time": "2024-10-15T23:42:58.069671",
     "status": "completed"
    },
    "tags": []
   },
   "outputs": [],
   "source": [
    "csv_path='/kaggle/input/fundusimage/ocular-disease-recognition-odir5k/full_df.csv'"
   ]
  },
  {
   "cell_type": "code",
   "execution_count": 3,
   "id": "f839d226",
   "metadata": {
    "execution": {
     "iopub.execute_input": "2024-10-15T23:42:58.095646Z",
     "iopub.status.busy": "2024-10-15T23:42:58.094767Z",
     "iopub.status.idle": "2024-10-15T23:42:58.172590Z",
     "shell.execute_reply": "2024-10-15T23:42:58.171265Z"
    },
    "papermill": {
     "duration": 0.086101,
     "end_time": "2024-10-15T23:42:58.175059",
     "exception": false,
     "start_time": "2024-10-15T23:42:58.088958",
     "status": "completed"
    },
    "tags": []
   },
   "outputs": [
    {
     "data": {
      "text/plain": [
       "(6392, 19)"
      ]
     },
     "execution_count": 3,
     "metadata": {},
     "output_type": "execute_result"
    }
   ],
   "source": [
    "csv = pd.read_csv(csv_path)\n",
    "csv.shape\n"
   ]
  },
  {
   "cell_type": "code",
   "execution_count": 4,
   "id": "5775b979",
   "metadata": {
    "execution": {
     "iopub.execute_input": "2024-10-15T23:42:58.186563Z",
     "iopub.status.busy": "2024-10-15T23:42:58.185208Z",
     "iopub.status.idle": "2024-10-15T23:42:58.212689Z",
     "shell.execute_reply": "2024-10-15T23:42:58.211601Z"
    },
    "papermill": {
     "duration": 0.035454,
     "end_time": "2024-10-15T23:42:58.214965",
     "exception": false,
     "start_time": "2024-10-15T23:42:58.179511",
     "status": "completed"
    },
    "tags": []
   },
   "outputs": [
    {
     "data": {
      "text/html": [
       "<div>\n",
       "<style scoped>\n",
       "    .dataframe tbody tr th:only-of-type {\n",
       "        vertical-align: middle;\n",
       "    }\n",
       "\n",
       "    .dataframe tbody tr th {\n",
       "        vertical-align: top;\n",
       "    }\n",
       "\n",
       "    .dataframe thead th {\n",
       "        text-align: right;\n",
       "    }\n",
       "</style>\n",
       "<table border=\"1\" class=\"dataframe\">\n",
       "  <thead>\n",
       "    <tr style=\"text-align: right;\">\n",
       "      <th></th>\n",
       "      <th>ID</th>\n",
       "      <th>Patient Age</th>\n",
       "      <th>Patient Sex</th>\n",
       "      <th>Left-Fundus</th>\n",
       "      <th>Right-Fundus</th>\n",
       "      <th>Left-Diagnostic Keywords</th>\n",
       "      <th>Right-Diagnostic Keywords</th>\n",
       "      <th>N</th>\n",
       "      <th>D</th>\n",
       "      <th>G</th>\n",
       "      <th>C</th>\n",
       "      <th>A</th>\n",
       "      <th>H</th>\n",
       "      <th>M</th>\n",
       "      <th>O</th>\n",
       "      <th>filepath</th>\n",
       "      <th>labels</th>\n",
       "      <th>target</th>\n",
       "      <th>filename</th>\n",
       "    </tr>\n",
       "  </thead>\n",
       "  <tbody>\n",
       "    <tr>\n",
       "      <th>0</th>\n",
       "      <td>0</td>\n",
       "      <td>69</td>\n",
       "      <td>Female</td>\n",
       "      <td>0_left.jpg</td>\n",
       "      <td>0_right.jpg</td>\n",
       "      <td>cataract</td>\n",
       "      <td>normal fundus</td>\n",
       "      <td>0</td>\n",
       "      <td>0</td>\n",
       "      <td>0</td>\n",
       "      <td>1</td>\n",
       "      <td>0</td>\n",
       "      <td>0</td>\n",
       "      <td>0</td>\n",
       "      <td>0</td>\n",
       "      <td>../input/ocular-disease-recognition-odir5k/ODI...</td>\n",
       "      <td>['N']</td>\n",
       "      <td>[1, 0, 0, 0, 0, 0, 0, 0]</td>\n",
       "      <td>0_right.jpg</td>\n",
       "    </tr>\n",
       "    <tr>\n",
       "      <th>1</th>\n",
       "      <td>1</td>\n",
       "      <td>57</td>\n",
       "      <td>Male</td>\n",
       "      <td>1_left.jpg</td>\n",
       "      <td>1_right.jpg</td>\n",
       "      <td>normal fundus</td>\n",
       "      <td>normal fundus</td>\n",
       "      <td>1</td>\n",
       "      <td>0</td>\n",
       "      <td>0</td>\n",
       "      <td>0</td>\n",
       "      <td>0</td>\n",
       "      <td>0</td>\n",
       "      <td>0</td>\n",
       "      <td>0</td>\n",
       "      <td>../input/ocular-disease-recognition-odir5k/ODI...</td>\n",
       "      <td>['N']</td>\n",
       "      <td>[1, 0, 0, 0, 0, 0, 0, 0]</td>\n",
       "      <td>1_right.jpg</td>\n",
       "    </tr>\n",
       "    <tr>\n",
       "      <th>2</th>\n",
       "      <td>2</td>\n",
       "      <td>42</td>\n",
       "      <td>Male</td>\n",
       "      <td>2_left.jpg</td>\n",
       "      <td>2_right.jpg</td>\n",
       "      <td>laser spot，moderate non proliferative retinopathy</td>\n",
       "      <td>moderate non proliferative retinopathy</td>\n",
       "      <td>0</td>\n",
       "      <td>1</td>\n",
       "      <td>0</td>\n",
       "      <td>0</td>\n",
       "      <td>0</td>\n",
       "      <td>0</td>\n",
       "      <td>0</td>\n",
       "      <td>1</td>\n",
       "      <td>../input/ocular-disease-recognition-odir5k/ODI...</td>\n",
       "      <td>['D']</td>\n",
       "      <td>[0, 1, 0, 0, 0, 0, 0, 0]</td>\n",
       "      <td>2_right.jpg</td>\n",
       "    </tr>\n",
       "    <tr>\n",
       "      <th>3</th>\n",
       "      <td>4</td>\n",
       "      <td>53</td>\n",
       "      <td>Male</td>\n",
       "      <td>4_left.jpg</td>\n",
       "      <td>4_right.jpg</td>\n",
       "      <td>macular epiretinal membrane</td>\n",
       "      <td>mild nonproliferative retinopathy</td>\n",
       "      <td>0</td>\n",
       "      <td>1</td>\n",
       "      <td>0</td>\n",
       "      <td>0</td>\n",
       "      <td>0</td>\n",
       "      <td>0</td>\n",
       "      <td>0</td>\n",
       "      <td>1</td>\n",
       "      <td>../input/ocular-disease-recognition-odir5k/ODI...</td>\n",
       "      <td>['D']</td>\n",
       "      <td>[0, 1, 0, 0, 0, 0, 0, 0]</td>\n",
       "      <td>4_right.jpg</td>\n",
       "    </tr>\n",
       "    <tr>\n",
       "      <th>4</th>\n",
       "      <td>5</td>\n",
       "      <td>50</td>\n",
       "      <td>Female</td>\n",
       "      <td>5_left.jpg</td>\n",
       "      <td>5_right.jpg</td>\n",
       "      <td>moderate non proliferative retinopathy</td>\n",
       "      <td>moderate non proliferative retinopathy</td>\n",
       "      <td>0</td>\n",
       "      <td>1</td>\n",
       "      <td>0</td>\n",
       "      <td>0</td>\n",
       "      <td>0</td>\n",
       "      <td>0</td>\n",
       "      <td>0</td>\n",
       "      <td>0</td>\n",
       "      <td>../input/ocular-disease-recognition-odir5k/ODI...</td>\n",
       "      <td>['D']</td>\n",
       "      <td>[0, 1, 0, 0, 0, 0, 0, 0]</td>\n",
       "      <td>5_right.jpg</td>\n",
       "    </tr>\n",
       "  </tbody>\n",
       "</table>\n",
       "</div>"
      ],
      "text/plain": [
       "   ID  Patient Age Patient Sex Left-Fundus Right-Fundus  \\\n",
       "0   0           69      Female  0_left.jpg  0_right.jpg   \n",
       "1   1           57        Male  1_left.jpg  1_right.jpg   \n",
       "2   2           42        Male  2_left.jpg  2_right.jpg   \n",
       "3   4           53        Male  4_left.jpg  4_right.jpg   \n",
       "4   5           50      Female  5_left.jpg  5_right.jpg   \n",
       "\n",
       "                            Left-Diagnostic Keywords  \\\n",
       "0                                           cataract   \n",
       "1                                      normal fundus   \n",
       "2  laser spot，moderate non proliferative retinopathy   \n",
       "3                        macular epiretinal membrane   \n",
       "4             moderate non proliferative retinopathy   \n",
       "\n",
       "                Right-Diagnostic Keywords  N  D  G  C  A  H  M  O  \\\n",
       "0                           normal fundus  0  0  0  1  0  0  0  0   \n",
       "1                           normal fundus  1  0  0  0  0  0  0  0   \n",
       "2  moderate non proliferative retinopathy  0  1  0  0  0  0  0  1   \n",
       "3       mild nonproliferative retinopathy  0  1  0  0  0  0  0  1   \n",
       "4  moderate non proliferative retinopathy  0  1  0  0  0  0  0  0   \n",
       "\n",
       "                                            filepath labels  \\\n",
       "0  ../input/ocular-disease-recognition-odir5k/ODI...  ['N']   \n",
       "1  ../input/ocular-disease-recognition-odir5k/ODI...  ['N']   \n",
       "2  ../input/ocular-disease-recognition-odir5k/ODI...  ['D']   \n",
       "3  ../input/ocular-disease-recognition-odir5k/ODI...  ['D']   \n",
       "4  ../input/ocular-disease-recognition-odir5k/ODI...  ['D']   \n",
       "\n",
       "                     target     filename  \n",
       "0  [1, 0, 0, 0, 0, 0, 0, 0]  0_right.jpg  \n",
       "1  [1, 0, 0, 0, 0, 0, 0, 0]  1_right.jpg  \n",
       "2  [0, 1, 0, 0, 0, 0, 0, 0]  2_right.jpg  \n",
       "3  [0, 1, 0, 0, 0, 0, 0, 0]  4_right.jpg  \n",
       "4  [0, 1, 0, 0, 0, 0, 0, 0]  5_right.jpg  "
      ]
     },
     "execution_count": 4,
     "metadata": {},
     "output_type": "execute_result"
    }
   ],
   "source": [
    "csv.head()"
   ]
  },
  {
   "cell_type": "markdown",
   "id": "da4124f8",
   "metadata": {
    "papermill": {
     "duration": 0.004574,
     "end_time": "2024-10-15T23:42:58.224649",
     "exception": false,
     "start_time": "2024-10-15T23:42:58.220075",
     "status": "completed"
    },
    "tags": []
   },
   "source": [
    "# Dataset"
   ]
  },
  {
   "cell_type": "code",
   "execution_count": 5,
   "id": "0f5ce2c5",
   "metadata": {
    "execution": {
     "iopub.execute_input": "2024-10-15T23:42:58.235866Z",
     "iopub.status.busy": "2024-10-15T23:42:58.235476Z",
     "iopub.status.idle": "2024-10-15T23:42:58.240637Z",
     "shell.execute_reply": "2024-10-15T23:42:58.239433Z"
    },
    "papermill": {
     "duration": 0.013481,
     "end_time": "2024-10-15T23:42:58.242829",
     "exception": false,
     "start_time": "2024-10-15T23:42:58.229348",
     "status": "completed"
    },
    "tags": []
   },
   "outputs": [],
   "source": [
    "train_path='/kaggle/input/fundusimage/ocular-disease-recognition-odir5k/ODIR-5K/Training Images'\n",
    "test_path='/kaggle/input/fundusimage/ocular-disease-recognition-odir5k/ODIR-5K/Testing Images'"
   ]
  },
  {
   "cell_type": "code",
   "execution_count": 6,
   "id": "ed1f1d7f",
   "metadata": {
    "execution": {
     "iopub.execute_input": "2024-10-15T23:42:58.255472Z",
     "iopub.status.busy": "2024-10-15T23:42:58.254513Z",
     "iopub.status.idle": "2024-10-15T23:42:58.259495Z",
     "shell.execute_reply": "2024-10-15T23:42:58.258443Z"
    },
    "papermill": {
     "duration": 0.014099,
     "end_time": "2024-10-15T23:42:58.261806",
     "exception": false,
     "start_time": "2024-10-15T23:42:58.247707",
     "status": "completed"
    },
    "tags": []
   },
   "outputs": [],
   "source": [
    "class_labels = ['N', 'D', 'G', 'C', 'A', 'H', 'M', 'O']\n"
   ]
  },
  {
   "cell_type": "code",
   "execution_count": 7,
   "id": "9d794e74",
   "metadata": {
    "execution": {
     "iopub.execute_input": "2024-10-15T23:42:58.273380Z",
     "iopub.status.busy": "2024-10-15T23:42:58.272956Z",
     "iopub.status.idle": "2024-10-15T23:42:58.278349Z",
     "shell.execute_reply": "2024-10-15T23:42:58.277378Z"
    },
    "papermill": {
     "duration": 0.013874,
     "end_time": "2024-10-15T23:42:58.280734",
     "exception": false,
     "start_time": "2024-10-15T23:42:58.266860",
     "status": "completed"
    },
    "tags": []
   },
   "outputs": [],
   "source": [
    "IMAGE_SIZE = 224\n",
    "data_transform = transforms.Compose([transforms.Resize((IMAGE_SIZE, IMAGE_SIZE))])\n",
    "# data_transform = transforms.Compose([transforms.Resize((IMAGE_SIZE, IMAGE_SIZE)), \n",
    "#                                              transforms.ToTensor()])"
   ]
  },
  {
   "cell_type": "code",
   "execution_count": 8,
   "id": "179eb5b9",
   "metadata": {
    "execution": {
     "iopub.execute_input": "2024-10-15T23:42:58.293588Z",
     "iopub.status.busy": "2024-10-15T23:42:58.293132Z",
     "iopub.status.idle": "2024-10-15T23:42:58.300753Z",
     "shell.execute_reply": "2024-10-15T23:42:58.299719Z"
    },
    "papermill": {
     "duration": 0.017355,
     "end_time": "2024-10-15T23:42:58.303056",
     "exception": false,
     "start_time": "2024-10-15T23:42:58.285701",
     "status": "completed"
    },
    "tags": []
   },
   "outputs": [],
   "source": [
    "class OcularDiseaseDataset(Dataset):\n",
    "    def __init__(self, csv_file, transform=None):\n",
    "        self.df = pd.read_csv(csv_file) \n",
    "        self.transform = transform \n",
    "\n",
    "    def __len__(self):\n",
    "        return len(self.df)  \n",
    "\n",
    "    def __getitem__(self, index):\n",
    "        image_path = self.df.filepath[index].replace('../input', '/kaggle/input/fundusimage')\n",
    "        image = Image.open(image_path)\n",
    "        label = self.df.labels[index]\n",
    "        label = label.strip(\"[]\").strip(\"'\\\"\")\n",
    "\n",
    "        if self.transform:\n",
    "            image = self.transform(image)\n",
    "        return image, label\n"
   ]
  },
  {
   "cell_type": "code",
   "execution_count": 9,
   "id": "413be83c",
   "metadata": {
    "execution": {
     "iopub.execute_input": "2024-10-15T23:42:58.315198Z",
     "iopub.status.busy": "2024-10-15T23:42:58.314790Z",
     "iopub.status.idle": "2024-10-15T23:42:58.360916Z",
     "shell.execute_reply": "2024-10-15T23:42:58.359828Z"
    },
    "papermill": {
     "duration": 0.054916,
     "end_time": "2024-10-15T23:42:58.363471",
     "exception": false,
     "start_time": "2024-10-15T23:42:58.308555",
     "status": "completed"
    },
    "tags": []
   },
   "outputs": [],
   "source": [
    "train_dataset = OcularDiseaseDataset(\n",
    "    csv_path,\n",
    "    data_transform\n",
    ")"
   ]
  },
  {
   "cell_type": "code",
   "execution_count": 10,
   "id": "64e98f0e",
   "metadata": {
    "execution": {
     "iopub.execute_input": "2024-10-15T23:42:58.376158Z",
     "iopub.status.busy": "2024-10-15T23:42:58.375209Z",
     "iopub.status.idle": "2024-10-15T23:42:58.382166Z",
     "shell.execute_reply": "2024-10-15T23:42:58.381109Z"
    },
    "papermill": {
     "duration": 0.015827,
     "end_time": "2024-10-15T23:42:58.384244",
     "exception": false,
     "start_time": "2024-10-15T23:42:58.368417",
     "status": "completed"
    },
    "tags": []
   },
   "outputs": [
    {
     "data": {
      "text/plain": [
       "6392"
      ]
     },
     "execution_count": 10,
     "metadata": {},
     "output_type": "execute_result"
    }
   ],
   "source": [
    "len(train_dataset)"
   ]
  },
  {
   "cell_type": "code",
   "execution_count": 11,
   "id": "fa185398",
   "metadata": {
    "execution": {
     "iopub.execute_input": "2024-10-15T23:42:58.396251Z",
     "iopub.status.busy": "2024-10-15T23:42:58.395848Z",
     "iopub.status.idle": "2024-10-15T23:42:58.474624Z",
     "shell.execute_reply": "2024-10-15T23:42:58.473328Z"
    },
    "papermill": {
     "duration": 0.088136,
     "end_time": "2024-10-15T23:42:58.477287",
     "exception": false,
     "start_time": "2024-10-15T23:42:58.389151",
     "status": "completed"
    },
    "tags": []
   },
   "outputs": [
    {
     "data": {
      "text/plain": [
       "(<PIL.Image.Image image mode=RGB size=224x224>, 'D')"
      ]
     },
     "execution_count": 11,
     "metadata": {},
     "output_type": "execute_result"
    }
   ],
   "source": [
    "train_dataset.__getitem__(2)"
   ]
  },
  {
   "cell_type": "code",
   "execution_count": 12,
   "id": "1cd4021b",
   "metadata": {
    "execution": {
     "iopub.execute_input": "2024-10-15T23:42:58.490117Z",
     "iopub.status.busy": "2024-10-15T23:42:58.489404Z",
     "iopub.status.idle": "2024-10-15T23:42:58.542269Z",
     "shell.execute_reply": "2024-10-15T23:42:58.541160Z"
    },
    "papermill": {
     "duration": 0.062935,
     "end_time": "2024-10-15T23:42:58.545571",
     "exception": false,
     "start_time": "2024-10-15T23:42:58.482636",
     "status": "completed"
    },
    "tags": []
   },
   "outputs": [
    {
     "name": "stdout",
     "output_type": "stream",
     "text": [
      "D\n"
     ]
    },
    {
     "data": {
      "image/jpeg": "[encoded data removed]",
      "image/png": "[encoded data removed]",
      "text/plain": [
       "<PIL.Image.Image image mode=RGB size=224x224>"
      ]
     },
     "execution_count": 12,
     "metadata": {},
     "output_type": "execute_result"
    }
   ],
   "source": [
    "image, label = train_dataset[2]\n",
    "print(label)\n",
    "image"
   ]
  },
  {
   "cell_type": "code",
   "execution_count": 13,
   "id": "33e4fda0",
   "metadata": {
    "execution": {
     "iopub.execute_input": "2024-10-15T23:42:58.560090Z",
     "iopub.status.busy": "2024-10-15T23:42:58.559674Z",
     "iopub.status.idle": "2024-10-15T23:42:58.565550Z",
     "shell.execute_reply": "2024-10-15T23:42:58.564242Z"
    },
    "papermill": {
     "duration": 0.016189,
     "end_time": "2024-10-15T23:42:58.567948",
     "exception": false,
     "start_time": "2024-10-15T23:42:58.551759",
     "status": "completed"
    },
    "tags": []
   },
   "outputs": [],
   "source": [
    "target_to_class = {\n",
    "    'N': 'Normal',\n",
    "    'D': 'Diabetes',\n",
    "    'G': 'Glaucoma',\n",
    "    'C': 'Cataract',\n",
    "    'A': 'Age-related Macular Degeneration',\n",
    "    'H': 'Hypertension',\n",
    "    'M': 'Pathological Myopia',\n",
    "    'O': 'Other diseases/abnormalities'\n",
    "}"
   ]
  },
  {
   "cell_type": "code",
   "execution_count": 14,
   "id": "3416669a",
   "metadata": {
    "execution": {
     "iopub.execute_input": "2024-10-15T23:42:58.582462Z",
     "iopub.status.busy": "2024-10-15T23:42:58.582025Z",
     "iopub.status.idle": "2024-10-15T23:42:58.588765Z",
     "shell.execute_reply": "2024-10-15T23:42:58.587590Z"
    },
    "papermill": {
     "duration": 0.016576,
     "end_time": "2024-10-15T23:42:58.590979",
     "exception": false,
     "start_time": "2024-10-15T23:42:58.574403",
     "status": "completed"
    },
    "tags": []
   },
   "outputs": [
    {
     "data": {
      "text/plain": [
       "'Diabetes'"
      ]
     },
     "execution_count": 14,
     "metadata": {},
     "output_type": "execute_result"
    }
   ],
   "source": [
    "target_to_class[label]"
   ]
  }
 ],
 "metadata": {
  "kaggle": {
   "accelerator": "none",
   "dataSources": [
    {
     "datasetId": 5882853,
     "sourceId": 9635244,
     "sourceType": "datasetVersion"
    }
   ],
   "dockerImageVersionId": 30775,
   "isGpuEnabled": false,
   "isInternetEnabled": false,
   "language": "python",
   "sourceType": "notebook"
  },
  "kernelspec": {
   "display_name": "Python 3",
   "language": "python",
   "name": "python3"
  },
  "language_info": {
   "codemirror_mode": {
    "name": "ipython",
    "version": 3
   },
   "file_extension": ".py",
   "mimetype": "text/x-python",
   "name": "python",
   "nbconvert_exporter": "python",
   "pygments_lexer": "ipython3",
   "version": "3.10.14"
  },
  "papermill": {
   "default_parameters": {},
   "duration": 13.525037,
   "end_time": "2024-10-15T23:43:00.891646",
   "environment_variables": {},
   "exception": null,
   "input_path": "__notebook__.ipynb",
   "output_path": "__notebook__.ipynb",
   "parameters": {},
   "start_time": "2024-10-15T23:42:47.366609",
   "version": "2.6.0"
  }
 },
 "nbformat": 4,
 "nbformat_minor": 5
}
